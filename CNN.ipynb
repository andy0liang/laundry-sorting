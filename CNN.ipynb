{
 "cells": [
  {
   "cell_type": "markdown",
   "id": "85922cd2-5ed4-44b9-9f3a-fde0eff217ea",
   "metadata": {},
   "source": [
    "Load the dataset"
   ]
  },
  {
   "cell_type": "code",
   "execution_count": 1,
   "id": "1b89cc8e-2217-441a-8aa0-4d35ad117795",
   "metadata": {},
   "outputs": [
    {
     "name": "stderr",
     "output_type": "stream",
     "text": [
      "2022-12-09 20:10:16.450971: I tensorflow/core/platform/cpu_feature_guard.cc:193] This TensorFlow binary is optimized with oneAPI Deep Neural Network Library (oneDNN) to use the following CPU instructions in performance-critical operations:  SSE4.1 SSE4.2\n",
      "To enable them in other operations, rebuild TensorFlow with the appropriate compiler flags.\n",
      "/Users/andyliang/opt/anaconda3/envs/tensorflow/lib/python3.8/site-packages/tqdm/auto.py:22: TqdmWarning: IProgress not found. Please update jupyter and ipywidgets. See https://ipywidgets.readthedocs.io/en/stable/user_install.html\n",
      "  from .autonotebook import tqdm as notebook_tqdm\n"
     ]
    }
   ],
   "source": [
    "from keras.preprocessing.image import ImageDataGenerator\n",
    "from keras.models import Sequential\n",
    "from keras.layers import Conv2D, MaxPooling2D\n",
    "from keras.layers import Activation, Dropout, Flatten, Dense\n",
    "from keras import backend as K\n",
    "import tensorflow as tf\n",
    "import tensorflow.keras as keras\n",
    "from tensorflow.keras import layers\n",
    "import numpy as np\n",
    "import matplotlib.pyplot as plt\n",
    "import tensorflow_addons as tfa\n",
    "from tensorflow.keras.layers.experimental import preprocessing\n",
    "import tensorflow_datasets as tfds\n"
   ]
  },
  {
   "cell_type": "code",
   "execution_count": 2,
   "id": "dae96513-428f-4655-9504-d42f045b63c3",
   "metadata": {},
   "outputs": [],
   "source": [
    "import csv\n",
    "import os\n",
    "\n",
    "datapath = 'clothing-dataset/'\n",
    "data = []\n",
    "with open(os.path.join(datapath, 'images.csv')) as csv_file:\n",
    "    reader = csv.reader(csv_file, delimiter=',')\n",
    "    for line in reader:\n",
    "        data.append(line)\n",
    "    "
   ]
  },
  {
   "cell_type": "code",
   "execution_count": 3,
   "id": "65c2fcdf-b963-4bdc-8ad5-ea75ccbe2e2f",
   "metadata": {},
   "outputs": [
    {
     "name": "stdout",
     "output_type": "stream",
     "text": [
      "[['image', 'sender_id', 'label', 'kids'], ['4285fab0-751a-4b74-8e9b-43af05deee22', '124', 'Not sure', 'False'], ['ea7b6656-3f84-4eb3-9099-23e623fc1018', '148', 'T-Shirt', 'False'], ['00627a3f-0477-401c-95eb-92642cbe078d', '94', 'Not sure', 'False'], ['ea2ffd4d-9b25-4ca8-9dc2-bd27f1cc59fa', '43', 'T-Shirt', 'False'], ['3b86d877-2b9e-4c8b-a6a2-1d87513309d0', '189', 'Shoes', 'False'], ['5d3a1404-697f-479f-9090-c1ecd0413d27', '138', 'Shorts', 'False'], ['b0c03127-9dfb-4573-8934-1958396937bf', '138', 'Shirt', 'False'], ['4c8f245e-a039-46fd-a6b9-1bb51e83fc05', '226', 'T-Shirt', 'False'], ['c995c900-693d-4dd6-8995-43f3051ec488', '337', 'Pants', 'False']]\n"
     ]
    }
   ],
   "source": [
    "print(data[:10])"
   ]
  },
  {
   "cell_type": "code",
   "execution_count": 4,
   "id": "584fafb3-d228-4f04-bbe1-c10b8f9b2411",
   "metadata": {},
   "outputs": [],
   "source": [
    "labels = data[0]\n",
    "data = data[1:]"
   ]
  },
  {
   "cell_type": "code",
   "execution_count": 5,
   "id": "109a017d-2769-4f46-8870-4f03fb09f552",
   "metadata": {},
   "outputs": [
    {
     "name": "stdout",
     "output_type": "stream",
     "text": [
      "['image', 'sender_id', 'label', 'kids']\n",
      "[['4285fab0-751a-4b74-8e9b-43af05deee22', '124', 'Not sure', 'False'], ['ea7b6656-3f84-4eb3-9099-23e623fc1018', '148', 'T-Shirt', 'False'], ['00627a3f-0477-401c-95eb-92642cbe078d', '94', 'Not sure', 'False'], ['ea2ffd4d-9b25-4ca8-9dc2-bd27f1cc59fa', '43', 'T-Shirt', 'False'], ['3b86d877-2b9e-4c8b-a6a2-1d87513309d0', '189', 'Shoes', 'False'], ['5d3a1404-697f-479f-9090-c1ecd0413d27', '138', 'Shorts', 'False'], ['b0c03127-9dfb-4573-8934-1958396937bf', '138', 'Shirt', 'False'], ['4c8f245e-a039-46fd-a6b9-1bb51e83fc05', '226', 'T-Shirt', 'False'], ['c995c900-693d-4dd6-8995-43f3051ec488', '337', 'Pants', 'False'], ['bf78527f-0734-44fd-a968-f6c32c12d61e', '175', 'Shoes', 'False']]\n"
     ]
    }
   ],
   "source": [
    "print(labels)\n",
    "print(data[:10])"
   ]
  },
  {
   "cell_type": "code",
   "execution_count": 6,
   "id": "cb1f6f5a-1295-4aa0-b700-195d18f916b9",
   "metadata": {},
   "outputs": [
    {
     "name": "stdout",
     "output_type": "stream",
     "text": [
      "5403\n"
     ]
    }
   ],
   "source": [
    "num_examples = len(data)\n",
    "print(len(data))"
   ]
  },
  {
   "cell_type": "code",
   "execution_count": 20,
   "id": "5a1d49f8-1f00-4138-8c1e-1cfc3289ce72",
   "metadata": {},
   "outputs": [
    {
     "name": "stdout",
     "output_type": "stream",
     "text": [
      "4961\n"
     ]
    }
   ],
   "source": [
    "label_counts = dict()\n",
    "for row in data:\n",
    "    if row[2] not in label_counts:\n",
    "        label_counts[row[2]] = 0\n",
    "    label_counts[row[2]] += 1\n",
    "    \n",
    "valid_labels = dict()\n",
    "for k, v in label_counts.items():\n",
    "    if v >= 100 and k not in ['Not sure', 'Others', 'Skip']:\n",
    "        valid_labels[k] = v\n",
    "\n",
    "filename_to_label = dict()\n",
    "cleaned_data = []\n",
    "valid_filenames = []\n",
    "for i in range(len(data)):\n",
    "    if data[i][2] in valid_labels.keys():\n",
    "        cleaned_data.append(data[i])\n",
    "        valid_filenames.append(data[i][0])\n",
    "        filename_to_label[data[i][0]] = data[i][2]\n",
    "\n",
    "\n",
    "\n",
    "num_examples = len(cleaned_data)\n",
    "print(num_examples)"
   ]
  },
  {
   "cell_type": "code",
   "execution_count": 21,
   "id": "e43e4a5d-811c-43f2-bf02-8a253c58ac27",
   "metadata": {},
   "outputs": [],
   "source": [
    "import os\n",
    "import shutil\n",
    "\n",
    "imagespath = 'clothing-dataset/images'\n",
    "images = [f for f in os.listdir(imagespath) if os.path.isfile(os.path.join(imagespath, f))]\n",
    "\n",
    "num_images_moved = 0\n",
    "\n",
    "\n",
    "\n",
    "for i in range(len(images)):\n",
    "    filename = images[i].split(\".\")[0]\n",
    "    if filename not in valid_filenames:\n",
    "        continue\n",
    "        \n",
    "    if num_images_moved < num_train + num_validate:\n",
    "        folder_name = 'train'\n",
    "    else:\n",
    "        folder_name = 'test'\n",
    "    \n",
    "    new_folder = os.path.join(imagespath, folder_name)\n",
    "    \n",
    "    classname = filename_to_label[filename]\n",
    "    finalfoldername = os.path.join(new_folder, classname)\n",
    "    \n",
    "    if not os.path.exists(finalfoldername):\n",
    "        os.makedirs(finalfoldername)\n",
    "    \n",
    "    old_image_path = os.path.join(imagespath, images[i])\n",
    "    new_image_path = os.path.join(finalfoldername, images[i])\n",
    "    shutil.move(old_image_path, new_image_path)\n",
    "    num_images_moved += 1"
   ]
  },
  {
   "cell_type": "code",
   "execution_count": 22,
   "id": "0e60d542-006b-459c-b28b-c720b6229169",
   "metadata": {},
   "outputs": [
    {
     "name": "stdout",
     "output_type": "stream",
     "text": [
      "14\n"
     ]
    }
   ],
   "source": [
    "num_train = 3600\n",
    "num_validate = 900\n",
    "num_test = 461\n",
    "epochs = 50\n",
    "batch_size = 16\n",
    "train_dir = os.path.join(os.getcwd(), os.path.join(imagespath, 'train'))\n",
    "img_height = 128\n",
    "img_width = 128\n",
    "input_shape = (128, 128, 3)\n",
    "num_classes = len(valid_labels)\n",
    "labels = [\"Blazer\", 'Dress', 'Hat', 'Hoodie', 'Longsleeve', 'Outwear', 'Pants', 'Polo', 'Shirt', 'Shoes', 'Shorts', 'Skirt', 'T-Shirt', 'Undershirt']\n",
    "print(num_classes)"
   ]
  },
  {
   "cell_type": "code",
   "execution_count": 23,
   "id": "7a18531a-c23d-4bf8-b758-e3d3db07164a",
   "metadata": {},
   "outputs": [
    {
     "name": "stdout",
     "output_type": "stream",
     "text": [
      "Found 4500 files belonging to 14 classes.\n",
      "Using 3600 files for training.\n",
      "Found 4500 files belonging to 14 classes.\n",
      "Using 900 files for validation.\n",
      "Found 461 files belonging to 14 classes.\n"
     ]
    }
   ],
   "source": [
    "import random\n",
    "seed = random.randint(1, 10000)\n",
    "train_ds = tf.keras.utils.image_dataset_from_directory(\n",
    "  train_dir,\n",
    "  validation_split=0.2,\n",
    "  subset=\"training\",\n",
    "  seed=seed,\n",
    "  image_size=(img_height, img_width),\n",
    "  batch_size=batch_size,\n",
    ")\n",
    "\n",
    "val_ds = tf.keras.utils.image_dataset_from_directory(\n",
    "  train_dir,\n",
    "  validation_split=0.2,\n",
    "  subset=\"validation\",\n",
    "  seed=seed,\n",
    "  image_size=(img_height, img_width),\n",
    "  batch_size=batch_size)\n",
    "\n",
    "test_dir = os.path.join(os.getcwd(), os.path.join(imagespath, 'test'))\n",
    "test_ds = tf.keras.utils.image_dataset_from_directory(\n",
    "  test_dir,\n",
    "  seed=seed,\n",
    "  image_size=(img_height, img_width),\n",
    "  batch_size=batch_size)"
   ]
  },
  {
   "cell_type": "code",
   "execution_count": null,
   "id": "89c54a86-f998-41a9-b223-441019acf585",
   "metadata": {},
   "outputs": [],
   "source": [
    "lmao = train_ds.take(1)\n",
    "fig, ax = plt.subplots(3, 3)\n",
    "for x, y in tfds.as_numpy(lmao):\n",
    "    for i in range(batch_size):\n",
    "        if i < 9:\n",
    "            ax[i // 3, i % 3].imshow(x[i] / 255)\n",
    "            ax[i // 3, i % 3].set_title(labels[y[i]])\n",
    "            ax[i // 3, i % 3].axis('off')"
   ]
  },
  {
   "cell_type": "code",
   "execution_count": 24,
   "id": "958b0137-63fa-44de-a9cf-c6bdb1ce4e5b",
   "metadata": {},
   "outputs": [],
   "source": [
    "data_augmentation = tf.keras.Sequential([tf.keras.layers.RandomFlip(\"horizontal_and_vertical\"), \n",
    "                                         tf.keras.layers.RandomRotation(0.2),])\n",
    "model = tf.keras.Sequential([\n",
    "    data_augmentation, \n",
    "  tf.keras.layers.Rescaling(1./255),\n",
    "  tf.keras.layers.Conv2D(32, 3, activation='relu'),\n",
    "  tf.keras.layers.MaxPooling2D(),\n",
    "  tf.keras.layers.Conv2D(32, 3, activation='relu'),\n",
    "  tf.keras.layers.MaxPooling2D(),\n",
    "  tf.keras.layers.Flatten(),\n",
    "  tf.keras.layers.Dense(128, activation='relu'),\n",
    "  tf.keras.layers.Dense(num_classes)\n",
    "])"
   ]
  },
  {
   "cell_type": "code",
   "execution_count": 25,
   "id": "800daa2f-8f8f-42e5-8aeb-2eac309e8165",
   "metadata": {},
   "outputs": [],
   "source": [
    "model.compile(\n",
    "  optimizer='adam',\n",
    "  loss=tf.keras.losses.SparseCategoricalCrossentropy(from_logits=True),\n",
    "  metrics=['accuracy'])"
   ]
  },
  {
   "cell_type": "code",
   "execution_count": 26,
   "id": "e75435d4-93ed-4601-96f7-55cfd2e96bbf",
   "metadata": {
    "tags": []
   },
   "outputs": [
    {
     "name": "stdout",
     "output_type": "stream",
     "text": [
      "Epoch 1/50\n",
      "WARNING:tensorflow:Using a while_loop for converting RngReadAndSkip cause there is no registered converter for this op.\n",
      "WARNING:tensorflow:Using a while_loop for converting Bitcast cause there is no registered converter for this op.\n",
      "WARNING:tensorflow:Using a while_loop for converting Bitcast cause there is no registered converter for this op.\n",
      "WARNING:tensorflow:Using a while_loop for converting StatelessRandomUniformV2 cause there is no registered converter for this op.\n",
      "WARNING:tensorflow:Using a while_loop for converting ImageProjectiveTransformV3 cause there is no registered converter for this op.\n",
      "WARNING:tensorflow:Using a while_loop for converting RngReadAndSkip cause there is no registered converter for this op.\n",
      "WARNING:tensorflow:Using a while_loop for converting Bitcast cause there is no registered converter for this op.\n",
      "WARNING:tensorflow:Using a while_loop for converting Bitcast cause there is no registered converter for this op.\n",
      "WARNING:tensorflow:Using a while_loop for converting StatelessRandomUniformV2 cause there is no registered converter for this op.\n",
      "WARNING:tensorflow:Using a while_loop for converting ImageProjectiveTransformV3 cause there is no registered converter for this op.\n",
      "WARNING:tensorflow:Using a while_loop for converting RngReadAndSkip cause there is no registered converter for this op.\n",
      "WARNING:tensorflow:Using a while_loop for converting Bitcast cause there is no registered converter for this op.\n",
      "WARNING:tensorflow:Using a while_loop for converting Bitcast cause there is no registered converter for this op.\n",
      "WARNING:tensorflow:Using a while_loop for converting StatelessRandomUniformV2 cause there is no registered converter for this op.\n",
      "WARNING:tensorflow:Using a while_loop for converting ImageProjectiveTransformV3 cause there is no registered converter for this op.\n",
      "WARNING:tensorflow:Using a while_loop for converting RngReadAndSkip cause there is no registered converter for this op.\n",
      "WARNING:tensorflow:Using a while_loop for converting Bitcast cause there is no registered converter for this op.\n",
      "WARNING:tensorflow:Using a while_loop for converting Bitcast cause there is no registered converter for this op.\n",
      "WARNING:tensorflow:Using a while_loop for converting StatelessRandomUniformV2 cause there is no registered converter for this op.\n",
      "WARNING:tensorflow:Using a while_loop for converting ImageProjectiveTransformV3 cause there is no registered converter for this op.\n",
      "225/225 [==============================] - 14s 54ms/step - loss: 2.4337 - accuracy: 0.2131 - val_loss: 2.3480 - val_accuracy: 0.1789\n",
      "Epoch 2/50\n",
      "225/225 [==============================] - 12s 55ms/step - loss: 2.2361 - accuracy: 0.2769 - val_loss: 2.3206 - val_accuracy: 0.2333\n",
      "Epoch 3/50\n",
      "225/225 [==============================] - 13s 56ms/step - loss: 2.0962 - accuracy: 0.3325 - val_loss: 2.3656 - val_accuracy: 0.2200\n",
      "Epoch 4/50\n",
      "225/225 [==============================] - 13s 56ms/step - loss: 1.9920 - accuracy: 0.3742 - val_loss: 2.4072 - val_accuracy: 0.2089\n",
      "Epoch 5/50\n",
      "225/225 [==============================] - 13s 56ms/step - loss: 1.8867 - accuracy: 0.4106 - val_loss: 2.4224 - val_accuracy: 0.2789\n",
      "Epoch 6/50\n",
      "225/225 [==============================] - 13s 56ms/step - loss: 1.8137 - accuracy: 0.4350 - val_loss: 2.4865 - val_accuracy: 0.2467\n",
      "Epoch 7/50\n",
      "225/225 [==============================] - 13s 57ms/step - loss: 1.7424 - accuracy: 0.4511 - val_loss: 2.5083 - val_accuracy: 0.2611\n",
      "Epoch 8/50\n",
      "225/225 [==============================] - 13s 56ms/step - loss: 1.6926 - accuracy: 0.4608 - val_loss: 2.5971 - val_accuracy: 0.2689\n",
      "Epoch 9/50\n",
      "225/225 [==============================] - 13s 56ms/step - loss: 1.6233 - accuracy: 0.4878 - val_loss: 2.7634 - val_accuracy: 0.2589\n",
      "Epoch 10/50\n",
      "225/225 [==============================] - 13s 57ms/step - loss: 1.5944 - accuracy: 0.4997 - val_loss: 2.7704 - val_accuracy: 0.2456\n",
      "Epoch 11/50\n",
      "225/225 [==============================] - 13s 56ms/step - loss: 1.5326 - accuracy: 0.5169 - val_loss: 2.7260 - val_accuracy: 0.2544\n",
      "Epoch 12/50\n",
      "225/225 [==============================] - 13s 56ms/step - loss: 1.4890 - accuracy: 0.5258 - val_loss: 2.9392 - val_accuracy: 0.2522\n",
      "Epoch 13/50\n",
      "225/225 [==============================] - 13s 56ms/step - loss: 1.4676 - accuracy: 0.5414 - val_loss: 2.8414 - val_accuracy: 0.2567\n",
      "Epoch 14/50\n",
      "225/225 [==============================] - 12s 55ms/step - loss: 1.4360 - accuracy: 0.5403 - val_loss: 2.8658 - val_accuracy: 0.2744\n",
      "Epoch 15/50\n",
      "225/225 [==============================] - 13s 57ms/step - loss: 1.3968 - accuracy: 0.5481 - val_loss: 3.0340 - val_accuracy: 0.2522\n",
      "Epoch 16/50\n",
      "225/225 [==============================] - 13s 56ms/step - loss: 1.3736 - accuracy: 0.5683 - val_loss: 3.0258 - val_accuracy: 0.2633\n",
      "Epoch 17/50\n",
      "225/225 [==============================] - 13s 56ms/step - loss: 1.3629 - accuracy: 0.5692 - val_loss: 3.1675 - val_accuracy: 0.2511\n",
      "Epoch 18/50\n",
      "225/225 [==============================] - 13s 56ms/step - loss: 1.3205 - accuracy: 0.5847 - val_loss: 3.2040 - val_accuracy: 0.2489\n",
      "Epoch 19/50\n",
      "225/225 [==============================] - 13s 56ms/step - loss: 1.2864 - accuracy: 0.5894 - val_loss: 3.1938 - val_accuracy: 0.2456\n",
      "Epoch 20/50\n",
      "225/225 [==============================] - 13s 56ms/step - loss: 1.2476 - accuracy: 0.6003 - val_loss: 3.4178 - val_accuracy: 0.2422\n",
      "Epoch 21/50\n",
      "225/225 [==============================] - 13s 56ms/step - loss: 1.2512 - accuracy: 0.5972 - val_loss: 3.2967 - val_accuracy: 0.2567\n",
      "Epoch 22/50\n",
      "225/225 [==============================] - 13s 56ms/step - loss: 1.2192 - accuracy: 0.6006 - val_loss: 3.5123 - val_accuracy: 0.2367\n",
      "Epoch 23/50\n",
      "225/225 [==============================] - 13s 56ms/step - loss: 1.1731 - accuracy: 0.6244 - val_loss: 3.4326 - val_accuracy: 0.2644\n",
      "Epoch 24/50\n",
      "225/225 [==============================] - 13s 56ms/step - loss: 1.1700 - accuracy: 0.6253 - val_loss: 3.5298 - val_accuracy: 0.2322\n",
      "Epoch 25/50\n",
      "225/225 [==============================] - 13s 56ms/step - loss: 1.1324 - accuracy: 0.6361 - val_loss: 3.4668 - val_accuracy: 0.2378\n",
      "Epoch 26/50\n",
      "225/225 [==============================] - 13s 56ms/step - loss: 1.1196 - accuracy: 0.6414 - val_loss: 3.5843 - val_accuracy: 0.2344\n",
      "Epoch 27/50\n",
      "225/225 [==============================] - 13s 56ms/step - loss: 1.0955 - accuracy: 0.6464 - val_loss: 3.7828 - val_accuracy: 0.2433\n",
      "Epoch 28/50\n",
      "225/225 [==============================] - 13s 56ms/step - loss: 1.0871 - accuracy: 0.6500 - val_loss: 3.7385 - val_accuracy: 0.2256\n",
      "Epoch 29/50\n",
      "225/225 [==============================] - 13s 58ms/step - loss: 1.0609 - accuracy: 0.6581 - val_loss: 3.7652 - val_accuracy: 0.2289\n",
      "Epoch 30/50\n",
      "225/225 [==============================] - 13s 56ms/step - loss: 1.0465 - accuracy: 0.6614 - val_loss: 4.2354 - val_accuracy: 0.2211\n",
      "Epoch 31/50\n",
      "225/225 [==============================] - 13s 56ms/step - loss: 1.0258 - accuracy: 0.6739 - val_loss: 4.2353 - val_accuracy: 0.2044\n",
      "Epoch 32/50\n",
      "225/225 [==============================] - 12s 55ms/step - loss: 0.9938 - accuracy: 0.6822 - val_loss: 4.1111 - val_accuracy: 0.2267\n",
      "Epoch 33/50\n",
      "225/225 [==============================] - 12s 55ms/step - loss: 0.9777 - accuracy: 0.6858 - val_loss: 4.0552 - val_accuracy: 0.2233\n",
      "Epoch 34/50\n",
      "225/225 [==============================] - 12s 55ms/step - loss: 0.9627 - accuracy: 0.6942 - val_loss: 3.9897 - val_accuracy: 0.2333\n",
      "Epoch 35/50\n",
      "225/225 [==============================] - 13s 56ms/step - loss: 0.9451 - accuracy: 0.7028 - val_loss: 4.3743 - val_accuracy: 0.2189\n",
      "Epoch 36/50\n",
      "225/225 [==============================] - 13s 56ms/step - loss: 0.9510 - accuracy: 0.6964 - val_loss: 4.2718 - val_accuracy: 0.2122\n",
      "Epoch 37/50\n",
      "225/225 [==============================] - 13s 56ms/step - loss: 0.9125 - accuracy: 0.7056 - val_loss: 4.2147 - val_accuracy: 0.2211\n",
      "Epoch 38/50\n",
      "225/225 [==============================] - 13s 56ms/step - loss: 0.9099 - accuracy: 0.7147 - val_loss: 4.2079 - val_accuracy: 0.2167\n",
      "Epoch 39/50\n",
      "225/225 [==============================] - 13s 56ms/step - loss: 0.8831 - accuracy: 0.7175 - val_loss: 4.4204 - val_accuracy: 0.2389\n",
      "Epoch 40/50\n",
      "225/225 [==============================] - 13s 56ms/step - loss: 0.8675 - accuracy: 0.7153 - val_loss: 4.5607 - val_accuracy: 0.2322\n",
      "Epoch 41/50\n",
      "225/225 [==============================] - 13s 56ms/step - loss: 0.8630 - accuracy: 0.7203 - val_loss: 4.5545 - val_accuracy: 0.2222\n",
      "Epoch 42/50\n",
      "225/225 [==============================] - 13s 56ms/step - loss: 0.8326 - accuracy: 0.7256 - val_loss: 5.0765 - val_accuracy: 0.2333\n",
      "Epoch 43/50\n",
      "225/225 [==============================] - 13s 56ms/step - loss: 0.8394 - accuracy: 0.7300 - val_loss: 4.4461 - val_accuracy: 0.2233\n",
      "Epoch 44/50\n",
      "225/225 [==============================] - 13s 56ms/step - loss: 0.8053 - accuracy: 0.7419 - val_loss: 4.6880 - val_accuracy: 0.2400\n",
      "Epoch 45/50\n",
      "225/225 [==============================] - 13s 56ms/step - loss: 0.8381 - accuracy: 0.7325 - val_loss: 4.5363 - val_accuracy: 0.2344\n",
      "Epoch 46/50\n",
      "225/225 [==============================] - 13s 56ms/step - loss: 0.7784 - accuracy: 0.7489 - val_loss: 4.6085 - val_accuracy: 0.2244\n",
      "Epoch 47/50\n",
      "225/225 [==============================] - 13s 55ms/step - loss: 0.7958 - accuracy: 0.7483 - val_loss: 4.8034 - val_accuracy: 0.2444\n",
      "Epoch 48/50\n",
      "225/225 [==============================] - 12s 55ms/step - loss: 0.7546 - accuracy: 0.7628 - val_loss: 5.2911 - val_accuracy: 0.2444\n",
      "Epoch 49/50\n",
      "225/225 [==============================] - 12s 55ms/step - loss: 0.7448 - accuracy: 0.7622 - val_loss: 4.9776 - val_accuracy: 0.2278\n",
      "Epoch 50/50\n",
      "225/225 [==============================] - 13s 57ms/step - loss: 0.7436 - accuracy: 0.7656 - val_loss: 5.1593 - val_accuracy: 0.2389\n"
     ]
    }
   ],
   "source": [
    "history = model.fit(\n",
    "  train_ds,\n",
    "  validation_data=val_ds,\n",
    "  epochs=epochs\n",
    ")"
   ]
  },
  {
   "cell_type": "code",
   "execution_count": 27,
   "id": "d3a7e8b5-502b-4f44-a0b8-f52592dacfdd",
   "metadata": {},
   "outputs": [
    {
     "name": "stdout",
     "output_type": "stream",
     "text": [
      "29/29 [==============================] - 1s 15ms/step - loss: 5.0885 - accuracy: 0.2495\n",
      "Accuracy: 24.94577020406723%\n"
     ]
    },
    {
     "data": {
      "image/png": "[encoded data removed]",
      "text/plain": [
       "<Figure size 640x480 with 1 Axes>"
      ]
     },
     "metadata": {},
     "output_type": "display_data"
    },
    {
     "data": {
      "image/png": "[encoded data removed]",
      "text/plain": [
       "<Figure size 640x480 with 1 Axes>"
      ]
     },
     "metadata": {},
     "output_type": "display_data"
    }
   ],
   "source": [
    "predictor = tf.keras.Sequential([\n",
    "    model,\n",
    "    tf.keras.layers.Softmax()\n",
    "])\n",
    "predictor.compile(\n",
    "  optimizer='adam',\n",
    "  loss=tf.keras.losses.SparseCategoricalCrossentropy(from_logits=False),\n",
    "  metrics=['accuracy'])\n",
    "accuracy = predictor.evaluate(test_ds)[1]\n",
    "print(f\"Accuracy: {accuracy * 100}%\")\n",
    "\n",
    "plt.plot(history.history['accuracy'])\n",
    "plt.plot(history.history['val_accuracy'])\n",
    "plt.legend(['train', 'val'], loc='upper left')\n",
    "plt.title('Accuracy')\n",
    "plt.xlabel('Epoch')\n",
    "plt.ylabel('Accuracy')\n",
    "plt.show()\n",
    "\n",
    "plt.plot(history.history['loss'])\n",
    "plt.plot(history.history['val_loss'])\n",
    "plt.legend(['train', 'val'], loc='upper left')\n",
    "plt.title('Loss')\n",
    "plt.xlabel('Epoch')\n",
    "plt.ylabel('Loss')\n",
    "plt.show()"
   ]
  },
  {
   "cell_type": "code",
   "execution_count": 16,
   "id": "8857558c-585a-451a-9de5-2b84c55a3348",
   "metadata": {},
   "outputs": [],
   "source": [
    "transfer_model = tf.keras.Sequential()\n",
    "resnet50 = tf.keras.applications.ResNet50V2(include_top=False,\n",
    "                    input_shape=(img_height,img_width,3),\n",
    "                    pooling='avg',classes=num_classes,\n",
    "                    weights='imagenet')\n",
    "\n",
    "#transfer_model.add(data_augmentation)\n",
    "\n",
    "for layer in resnet50.layers:\n",
    "    layer.trainable = False\n",
    "\n",
    "transfer_model.add(resnet50)\n",
    "transfer_model.add(Flatten())\n",
    "transfer_model.add(tf.keras.layers.BatchNormalization())\n",
    "transfer_model.add(Dense(128, activation='relu'))\n",
    "transfer_model.add(Dropout(0.1))\n",
    "transfer_model.add(tf.keras.layers.BatchNormalization())\n",
    "transfer_model.add(Dense(num_classes))\n"
   ]
  },
  {
   "cell_type": "code",
   "execution_count": 17,
   "id": "5cb8ec11-f1bb-4d95-abdd-b7d29c454b38",
   "metadata": {},
   "outputs": [
    {
     "name": "stdout",
     "output_type": "stream",
     "text": [
      "Epoch 1/50\n",
      "225/225 [==============================] - 57s 245ms/step - loss: 2.2629 - accuracy: 0.3231 - val_loss: 1.9646 - val_accuracy: 0.4178\n",
      "Epoch 2/50\n",
      "225/225 [==============================] - 54s 241ms/step - loss: 1.6803 - accuracy: 0.4769 - val_loss: 1.8182 - val_accuracy: 0.4544\n",
      "Epoch 3/50\n",
      "225/225 [==============================] - 54s 242ms/step - loss: 1.4682 - accuracy: 0.5306 - val_loss: 1.8473 - val_accuracy: 0.4444\n",
      "Epoch 4/50\n",
      "225/225 [==============================] - 54s 240ms/step - loss: 1.2981 - accuracy: 0.5850 - val_loss: 1.8546 - val_accuracy: 0.4678\n",
      "Epoch 5/50\n",
      "225/225 [==============================] - 55s 243ms/step - loss: 1.1615 - accuracy: 0.6186 - val_loss: 1.8785 - val_accuracy: 0.4811\n",
      "Epoch 6/50\n",
      "225/225 [==============================] - 54s 242ms/step - loss: 1.0589 - accuracy: 0.6625 - val_loss: 2.0439 - val_accuracy: 0.4667\n",
      "Epoch 7/50\n",
      "225/225 [==============================] - 55s 244ms/step - loss: 0.9512 - accuracy: 0.6986 - val_loss: 2.1055 - val_accuracy: 0.4744\n",
      "Epoch 8/50\n",
      "225/225 [==============================] - 56s 247ms/step - loss: 0.8608 - accuracy: 0.7181 - val_loss: 2.2550 - val_accuracy: 0.4811\n",
      "Epoch 9/50\n",
      "225/225 [==============================] - 55s 244ms/step - loss: 0.7941 - accuracy: 0.7428 - val_loss: 2.3359 - val_accuracy: 0.4744\n",
      "Epoch 10/50\n",
      "225/225 [==============================] - 54s 240ms/step - loss: 0.7587 - accuracy: 0.7553 - val_loss: 2.4651 - val_accuracy: 0.4778\n",
      "Epoch 11/50\n",
      "225/225 [==============================] - 54s 240ms/step - loss: 0.6903 - accuracy: 0.7669 - val_loss: 2.5150 - val_accuracy: 0.4822\n",
      "Epoch 12/50\n",
      "225/225 [==============================] - 55s 243ms/step - loss: 0.6341 - accuracy: 0.7925 - val_loss: 2.7446 - val_accuracy: 0.4700\n",
      "Epoch 13/50\n",
      "225/225 [==============================] - 55s 245ms/step - loss: 0.6389 - accuracy: 0.7897 - val_loss: 2.7704 - val_accuracy: 0.5000\n",
      "Epoch 14/50\n",
      "225/225 [==============================] - 55s 246ms/step - loss: 0.5534 - accuracy: 0.8169 - val_loss: 2.9081 - val_accuracy: 0.4622\n",
      "Epoch 15/50\n",
      "225/225 [==============================] - 55s 243ms/step - loss: 0.5596 - accuracy: 0.8131 - val_loss: 3.2596 - val_accuracy: 0.4644\n",
      "Epoch 16/50\n",
      "225/225 [==============================] - 55s 244ms/step - loss: 0.5287 - accuracy: 0.8236 - val_loss: 3.2281 - val_accuracy: 0.4744\n",
      "Epoch 17/50\n",
      "225/225 [==============================] - 56s 250ms/step - loss: 0.4675 - accuracy: 0.8406 - val_loss: 3.2827 - val_accuracy: 0.4711\n",
      "Epoch 18/50\n",
      "225/225 [==============================] - 55s 246ms/step - loss: 0.4593 - accuracy: 0.8417 - val_loss: 3.3215 - val_accuracy: 0.4756\n",
      "Epoch 19/50\n",
      "225/225 [==============================] - 56s 248ms/step - loss: 0.4577 - accuracy: 0.8475 - val_loss: 3.5182 - val_accuracy: 0.4722\n",
      "Epoch 20/50\n",
      "225/225 [==============================] - 55s 247ms/step - loss: 0.4389 - accuracy: 0.8578 - val_loss: 3.5415 - val_accuracy: 0.4600\n",
      "Epoch 21/50\n",
      "225/225 [==============================] - 56s 247ms/step - loss: 0.4305 - accuracy: 0.8522 - val_loss: 3.5681 - val_accuracy: 0.4689\n",
      "Epoch 22/50\n",
      "225/225 [==============================] - 56s 249ms/step - loss: 0.4110 - accuracy: 0.8708 - val_loss: 3.7137 - val_accuracy: 0.4711\n",
      "Epoch 23/50\n",
      "225/225 [==============================] - 55s 246ms/step - loss: 0.3756 - accuracy: 0.8781 - val_loss: 3.8035 - val_accuracy: 0.4556\n",
      "Epoch 24/50\n",
      "225/225 [==============================] - 56s 247ms/step - loss: 0.3642 - accuracy: 0.8781 - val_loss: 3.9068 - val_accuracy: 0.4578\n",
      "Epoch 25/50\n",
      "225/225 [==============================] - 56s 250ms/step - loss: 0.3460 - accuracy: 0.8817 - val_loss: 4.0024 - val_accuracy: 0.4767\n",
      "Epoch 26/50\n",
      "225/225 [==============================] - 56s 250ms/step - loss: 0.3527 - accuracy: 0.8800 - val_loss: 4.1477 - val_accuracy: 0.4644\n",
      "Epoch 27/50\n",
      "225/225 [==============================] - 55s 245ms/step - loss: 0.3396 - accuracy: 0.8889 - val_loss: 3.9771 - val_accuracy: 0.4689\n",
      "Epoch 28/50\n",
      "225/225 [==============================] - 55s 245ms/step - loss: 0.3247 - accuracy: 0.8944 - val_loss: 4.2457 - val_accuracy: 0.4667\n",
      "Epoch 29/50\n",
      "225/225 [==============================] - 55s 244ms/step - loss: 0.3157 - accuracy: 0.8942 - val_loss: 4.1695 - val_accuracy: 0.4644\n",
      "Epoch 30/50\n",
      "225/225 [==============================] - 56s 247ms/step - loss: 0.3068 - accuracy: 0.8978 - val_loss: 4.2846 - val_accuracy: 0.4711\n",
      "Epoch 31/50\n",
      "225/225 [==============================] - 55s 243ms/step - loss: 0.2954 - accuracy: 0.8958 - val_loss: 4.3863 - val_accuracy: 0.4767\n",
      "Epoch 32/50\n",
      "225/225 [==============================] - 55s 243ms/step - loss: 0.2892 - accuracy: 0.9000 - val_loss: 4.3351 - val_accuracy: 0.4756\n",
      "Epoch 33/50\n",
      "225/225 [==============================] - 56s 248ms/step - loss: 0.3047 - accuracy: 0.8933 - val_loss: 4.4848 - val_accuracy: 0.4544\n",
      "Epoch 34/50\n",
      "225/225 [==============================] - 55s 243ms/step - loss: 0.2961 - accuracy: 0.8967 - val_loss: 4.5816 - val_accuracy: 0.4500\n",
      "Epoch 35/50\n",
      "225/225 [==============================] - 55s 245ms/step - loss: 0.3097 - accuracy: 0.9033 - val_loss: 4.5686 - val_accuracy: 0.4678\n",
      "Epoch 36/50\n",
      "225/225 [==============================] - 56s 248ms/step - loss: 0.2962 - accuracy: 0.9025 - val_loss: 4.7323 - val_accuracy: 0.4522\n",
      "Epoch 37/50\n",
      "225/225 [==============================] - 55s 245ms/step - loss: 0.2751 - accuracy: 0.9053 - val_loss: 4.7665 - val_accuracy: 0.4544\n",
      "Epoch 38/50\n",
      "225/225 [==============================] - 55s 242ms/step - loss: 0.2634 - accuracy: 0.9100 - val_loss: 4.8603 - val_accuracy: 0.4567\n",
      "Epoch 39/50\n",
      "225/225 [==============================] - 55s 244ms/step - loss: 0.2446 - accuracy: 0.9219 - val_loss: 4.6720 - val_accuracy: 0.4611\n",
      "Epoch 40/50\n",
      "225/225 [==============================] - 55s 244ms/step - loss: 0.2577 - accuracy: 0.9156 - val_loss: 4.7905 - val_accuracy: 0.4633\n",
      "Epoch 41/50\n",
      "225/225 [==============================] - 55s 244ms/step - loss: 0.2562 - accuracy: 0.9131 - val_loss: 4.9324 - val_accuracy: 0.4633\n",
      "Epoch 42/50\n",
      "225/225 [==============================] - 55s 244ms/step - loss: 0.2392 - accuracy: 0.9242 - val_loss: 4.8715 - val_accuracy: 0.4522\n",
      "Epoch 43/50\n",
      "225/225 [==============================] - 55s 246ms/step - loss: 0.2269 - accuracy: 0.9250 - val_loss: 4.9527 - val_accuracy: 0.4511\n",
      "Epoch 44/50\n",
      "225/225 [==============================] - 55s 245ms/step - loss: 0.2295 - accuracy: 0.9192 - val_loss: 5.0573 - val_accuracy: 0.4656\n",
      "Epoch 45/50\n",
      "225/225 [==============================] - 55s 247ms/step - loss: 0.2121 - accuracy: 0.9339 - val_loss: 5.1404 - val_accuracy: 0.4511\n",
      "Epoch 46/50\n",
      "225/225 [==============================] - 55s 245ms/step - loss: 0.2372 - accuracy: 0.9247 - val_loss: 5.3004 - val_accuracy: 0.4500\n",
      "Epoch 47/50\n",
      "225/225 [==============================] - 55s 243ms/step - loss: 0.2364 - accuracy: 0.9169 - val_loss: 5.2848 - val_accuracy: 0.4467\n",
      "Epoch 48/50\n",
      "225/225 [==============================] - 55s 244ms/step - loss: 0.2479 - accuracy: 0.9147 - val_loss: 5.3184 - val_accuracy: 0.4556\n",
      "Epoch 49/50\n",
      "225/225 [==============================] - 55s 245ms/step - loss: 0.2302 - accuracy: 0.9219 - val_loss: 5.5252 - val_accuracy: 0.4433\n",
      "Epoch 50/50\n",
      "225/225 [==============================] - 55s 245ms/step - loss: 0.2346 - accuracy: 0.9139 - val_loss: 5.4706 - val_accuracy: 0.4478\n"
     ]
    }
   ],
   "source": [
    "\n",
    "transfer_model.compile(optimizer='adam',loss=tf.keras.losses.SparseCategoricalCrossentropy(from_logits=True),metrics=['accuracy'])\n",
    "history = transfer_model.fit(train_ds, validation_data=val_ds, epochs=epochs)\n"
   ]
  },
  {
   "cell_type": "code",
   "execution_count": 19,
   "id": "6b3c654a-b234-48e0-b3d6-5a7c1d8d82dd",
   "metadata": {},
   "outputs": [
    {
     "name": "stdout",
     "output_type": "stream",
     "text": [
      "29/29 [==============================] - 6s 191ms/step - loss: 5.2743 - accuracy: 0.5033\n",
      "Accuracy: 50.32538175582886%\n"
     ]
    },
    {
     "data": {
      "image/png": "[encoded data removed]",
      "text/plain": [
       "<Figure size 640x480 with 1 Axes>"
      ]
     },
     "metadata": {},
     "output_type": "display_data"
    },
    {
     "data": {
      "image/png": "[encoded data removed]",
      "text/plain": [
       "<Figure size 640x480 with 1 Axes>"
      ]
     },
     "metadata": {},
     "output_type": "display_data"
    }
   ],
   "source": [
    "\n",
    "accuracy = transfer_model.evaluate(test_ds)[1]\n",
    "print(f\"Accuracy: {accuracy * 100}%\")\n",
    "\n",
    "plt.plot(history.history['accuracy'])\n",
    "plt.plot(history.history['val_accuracy'])\n",
    "plt.legend(['train', 'val'], loc='upper left')\n",
    "plt.title('Accuracy')\n",
    "plt.xlabel('Epoch')\n",
    "plt.ylabel('Accuracy')\n",
    "plt.show()\n",
    "\n",
    "plt.plot(history.history['loss'])\n",
    "plt.plot(history.history['val_loss'])\n",
    "plt.legend(['train', 'val'], loc='upper left')\n",
    "plt.title('Loss')\n",
    "plt.xlabel('Epoch')\n",
    "plt.ylabel('Loss')\n",
    "plt.show()"
   ]
  },
  {
   "cell_type": "code",
   "execution_count": null,
   "id": "9060c81e-ccb8-424a-b234-edf823137d2d",
   "metadata": {},
   "outputs": [],
   "source": []
  },
  {
   "cell_type": "code",
   "execution_count": 128,
   "id": "1c8685b6-792c-45ce-8824-f7dc7e6cd8b7",
   "metadata": {},
   "outputs": [],
   "source": [
    "import tensorflow as tf\n",
    "import tensorflow_addons as tfa\n",
    "import numpy as np\n",
    "from tensorflow import keras\n",
    "from tensorflow.keras import layers"
   ]
  },
  {
   "cell_type": "code",
   "execution_count": 130,
   "id": "23be87d6-95f9-4fd4-892d-90fcfae8fcb5",
   "metadata": {},
   "outputs": [
    {
     "name": "stdout",
     "output_type": "stream",
     "text": [
      "Found 4500 files belonging to 14 classes.\n",
      "Using 3600 files for training.\n",
      "Found 4500 files belonging to 14 classes.\n",
      "Using 900 files for validation.\n"
     ]
    }
   ],
   "source": [
    "num_classes = 14\n",
    "input_shape = (128, 128, 3)\n",
    "\n",
    "learning_rate = 0.001\n",
    "batch_size = 265\n",
    "hidden_units = 512\n",
    "projection_units = 128\n",
    "num_epochs = 50\n",
    "dropout_rate = 0.5\n",
    "temperature = 0.05\n",
    "\n",
    "\n",
    "import random\n",
    "seed = random.randint(1, 10000)\n",
    "train_ds = tf.keras.utils.image_dataset_from_directory(\n",
    "  train_dir,\n",
    "  validation_split=0.2,\n",
    "  subset=\"training\",\n",
    "  seed=seed,\n",
    "  image_size=(img_height, img_width),\n",
    "  batch_size=batch_size,\n",
    ")\n",
    "\n",
    "val_ds = tf.keras.utils.image_dataset_from_directory(\n",
    "  train_dir,\n",
    "  validation_split=0.2,\n",
    "  subset=\"validation\",\n",
    "  seed=seed,\n",
    "  image_size=(img_height, img_width),\n",
    "  batch_size=batch_size)\n",
    "\n",
    "test_dir = os.path.join(os.getcwd(), os.path.join(imagespath, 'test'))\n",
    "test_ds = tf.keras.utils.image_dataset_from_directory(\n",
    "  test_dir,\n",
    "  seed=seed,\n",
    "  image_size=(img_height, img_width),\n",
    "  batch_size=batch_size)"
   ]
  },
  {
   "cell_type": "code",
   "execution_count": 131,
   "id": "0f38a108-d19d-4001-87d8-0cb243f3da22",
   "metadata": {},
   "outputs": [
    {
     "name": "stdout",
     "output_type": "stream",
     "text": [
      "Model: \"cifar10-encoder\"\n",
      "_________________________________________________________________\n",
      " Layer (type)                Output Shape              Param #   \n",
      "=================================================================\n",
      " input_41 (InputLayer)       [(None, 128, 128, 3)]     0         \n",
      "                                                                 \n",
      " resnet50v2 (Functional)     (None, 2048)              23564800  \n",
      "                                                                 \n",
      "=================================================================\n",
      "Total params: 23,564,800\n",
      "Trainable params: 23,519,360\n",
      "Non-trainable params: 45,440\n",
      "_________________________________________________________________\n"
     ]
    }
   ],
   "source": [
    "def encoder():\n",
    "    transfer_model = keras.applications.ResNet50V2(\n",
    "        include_top=False, weights=None, input_shape=input_shape, pooling=\"avg\"\n",
    "    )\n",
    "\n",
    "    inputs = keras.Input(shape=input_shape)\n",
    "    outputs = transfer_model(inputs)\n",
    "    final_encoder = keras.Model(inputs=inputs, outputs=outputs)\n",
    "    return final_encoder\n",
    "\n",
    "\n",
    "initial_encoder = encoder()\n",
    "initial_encoder.summary()\n"
   ]
  },
  {
   "cell_type": "code",
   "execution_count": 132,
   "id": "a1e7f717-aa9a-4c60-ba6c-1c54ee0848f6",
   "metadata": {},
   "outputs": [],
   "source": [
    "def classifier(initial_encoder, trainable=True):\n",
    "\n",
    "    for layer in initial_encoder.layers:\n",
    "        layer.trainable = trainable\n",
    "\n",
    "    inputs = keras.Input(shape=input_shape)\n",
    "    learned_features = initial_encoder(inputs)\n",
    "    learned_features = layers.Dropout(dropout_rate)(learned_features)\n",
    "    learned_features = layers.Dense(hidden_units, activation=\"relu\")(learned_features)\n",
    "    learned_features = layers.Dropout(dropout_rate)(learned_features)\n",
    "    outputs = layers.Dense(num_classes, activation=\"softmax\")(learned_features)\n",
    "\n",
    "    final_model = keras.Model(inputs=inputs, outputs=outputs)\n",
    "    final_model.compile(\n",
    "        optimizer=keras.optimizers.Adam(learning_rate),\n",
    "        loss=keras.losses.SparseCategoricalCrossentropy(),\n",
    "        metrics=[keras.metrics.SparseCategoricalAccuracy()],\n",
    "    )\n",
    "    return final_model"
   ]
  },
  {
   "cell_type": "code",
   "execution_count": 133,
   "id": "5edcb795-bb78-4791-9a4b-0f44995662d2",
   "metadata": {},
   "outputs": [],
   "source": [
    "class SupervisedContrastiveLoss(keras.losses.Loss):\n",
    "    def __init__(self, temperature, name=None):\n",
    "        super(SupervisedContrastiveLoss, self).__init__(name=name)\n",
    "        self.temperature = temperature\n",
    "\n",
    "    def __call__(self, labels, feature_vectors, sample_weight=None):\n",
    "        normalized_feature_vectors = tf.math.l2_normalize(feature_vectors, axis=1)\n",
    "        calculated_logits = tf.divide(tf.matmul(normalized_feature_vectors, tf.transpose(normalized_feature_vectors)), self.temperature)\n",
    "        return tfa.losses.npairs_loss(tf.squeeze(labels), calculated_logits)\n",
    "\n",
    "\n",
    "def projection(initial_encoder):\n",
    "    inputs = keras.Input(shape=input_shape)\n",
    "    learned_features = initial_encoder(inputs)\n",
    "    outputs = layers.Dense(projection_units, activation=\"relu\")(learned_features)\n",
    "    final_model = keras.Model(inputs=inputs, outputs=outputs)\n",
    "    return final_model"
   ]
  },
  {
   "cell_type": "code",
   "execution_count": 135,
   "id": "5f25c9db-0db4-4c44-a4b3-67f745f60585",
   "metadata": {},
   "outputs": [
    {
     "name": "stdout",
     "output_type": "stream",
     "text": [
      "Model: \"cifar-encoder_with_projection-head\"\n",
      "_________________________________________________________________\n",
      " Layer (type)                Output Shape              Param #   \n",
      "=================================================================\n",
      " input_47 (InputLayer)       [(None, 128, 128, 3)]     0         \n",
      "                                                                 \n",
      " cifar10-encoder (Functional  (None, 2048)             23564800  \n",
      " )                                                               \n",
      "                                                                 \n",
      " dense_50 (Dense)            (None, 128)               262272    \n",
      "                                                                 \n",
      "=================================================================\n",
      "Total params: 23,827,072\n",
      "Trainable params: 23,781,632\n",
      "Non-trainable params: 45,440\n",
      "_________________________________________________________________\n",
      "Epoch 1/50\n",
      "225/225 [==============================] - 190s 831ms/step - loss: 2.3267\n",
      "Epoch 2/50\n",
      " 57/225 [======>.......................] - ETA: 2:20 - loss: 2.1956"
     ]
    },
    {
     "ename": "KeyboardInterrupt",
     "evalue": "",
     "output_type": "error",
     "traceback": [
      "\u001b[0;31m---------------------------------------------------------------------------\u001b[0m",
      "\u001b[0;31mKeyboardInterrupt\u001b[0m                         Traceback (most recent call last)",
      "Cell \u001b[0;32mIn [135], line 11\u001b[0m\n\u001b[1;32m      4\u001b[0m encoder_with_projection_head\u001b[38;5;241m.\u001b[39mcompile(\n\u001b[1;32m      5\u001b[0m     optimizer\u001b[38;5;241m=\u001b[39mkeras\u001b[38;5;241m.\u001b[39moptimizers\u001b[38;5;241m.\u001b[39mAdam(learning_rate),\n\u001b[1;32m      6\u001b[0m     loss\u001b[38;5;241m=\u001b[39mSupervisedContrastiveLoss(temperature),\n\u001b[1;32m      7\u001b[0m )\n\u001b[1;32m      9\u001b[0m encoder_with_projection_head\u001b[38;5;241m.\u001b[39msummary()\n\u001b[0;32m---> 11\u001b[0m history \u001b[38;5;241m=\u001b[39m \u001b[43mencoder_with_projection_head\u001b[49m\u001b[38;5;241;43m.\u001b[39;49m\u001b[43mfit\u001b[49m\u001b[43m(\u001b[49m\n\u001b[1;32m     12\u001b[0m \u001b[43m    \u001b[49m\u001b[43mtrain_ds\u001b[49m\u001b[43m,\u001b[49m\u001b[43m \u001b[49m\u001b[43mbatch_size\u001b[49m\u001b[38;5;241;43m=\u001b[39;49m\u001b[43mbatch_size\u001b[49m\u001b[43m,\u001b[49m\u001b[43m \u001b[49m\u001b[43mepochs\u001b[49m\u001b[38;5;241;43m=\u001b[39;49m\u001b[43mnum_epochs\u001b[49m\n\u001b[1;32m     13\u001b[0m \u001b[43m)\u001b[49m\n",
      "File \u001b[0;32m~/opt/anaconda3/envs/tensorflow/lib/python3.8/site-packages/keras/utils/traceback_utils.py:65\u001b[0m, in \u001b[0;36mfilter_traceback.<locals>.error_handler\u001b[0;34m(*args, **kwargs)\u001b[0m\n\u001b[1;32m     63\u001b[0m filtered_tb \u001b[38;5;241m=\u001b[39m \u001b[38;5;28;01mNone\u001b[39;00m\n\u001b[1;32m     64\u001b[0m \u001b[38;5;28;01mtry\u001b[39;00m:\n\u001b[0;32m---> 65\u001b[0m     \u001b[38;5;28;01mreturn\u001b[39;00m \u001b[43mfn\u001b[49m\u001b[43m(\u001b[49m\u001b[38;5;241;43m*\u001b[39;49m\u001b[43margs\u001b[49m\u001b[43m,\u001b[49m\u001b[43m \u001b[49m\u001b[38;5;241;43m*\u001b[39;49m\u001b[38;5;241;43m*\u001b[39;49m\u001b[43mkwargs\u001b[49m\u001b[43m)\u001b[49m\n\u001b[1;32m     66\u001b[0m \u001b[38;5;28;01mexcept\u001b[39;00m \u001b[38;5;167;01mException\u001b[39;00m \u001b[38;5;28;01mas\u001b[39;00m e:\n\u001b[1;32m     67\u001b[0m     filtered_tb \u001b[38;5;241m=\u001b[39m _process_traceback_frames(e\u001b[38;5;241m.\u001b[39m__traceback__)\n",
      "File \u001b[0;32m~/opt/anaconda3/envs/tensorflow/lib/python3.8/site-packages/keras/engine/training.py:1564\u001b[0m, in \u001b[0;36mModel.fit\u001b[0;34m(self, x, y, batch_size, epochs, verbose, callbacks, validation_split, validation_data, shuffle, class_weight, sample_weight, initial_epoch, steps_per_epoch, validation_steps, validation_batch_size, validation_freq, max_queue_size, workers, use_multiprocessing)\u001b[0m\n\u001b[1;32m   1556\u001b[0m \u001b[38;5;28;01mwith\u001b[39;00m tf\u001b[38;5;241m.\u001b[39mprofiler\u001b[38;5;241m.\u001b[39mexperimental\u001b[38;5;241m.\u001b[39mTrace(\n\u001b[1;32m   1557\u001b[0m     \u001b[38;5;124m\"\u001b[39m\u001b[38;5;124mtrain\u001b[39m\u001b[38;5;124m\"\u001b[39m,\n\u001b[1;32m   1558\u001b[0m     epoch_num\u001b[38;5;241m=\u001b[39mepoch,\n\u001b[0;32m   (...)\u001b[0m\n\u001b[1;32m   1561\u001b[0m     _r\u001b[38;5;241m=\u001b[39m\u001b[38;5;241m1\u001b[39m,\n\u001b[1;32m   1562\u001b[0m ):\n\u001b[1;32m   1563\u001b[0m     callbacks\u001b[38;5;241m.\u001b[39mon_train_batch_begin(step)\n\u001b[0;32m-> 1564\u001b[0m     tmp_logs \u001b[38;5;241m=\u001b[39m \u001b[38;5;28;43mself\u001b[39;49m\u001b[38;5;241;43m.\u001b[39;49m\u001b[43mtrain_function\u001b[49m\u001b[43m(\u001b[49m\u001b[43miterator\u001b[49m\u001b[43m)\u001b[49m\n\u001b[1;32m   1565\u001b[0m     \u001b[38;5;28;01mif\u001b[39;00m data_handler\u001b[38;5;241m.\u001b[39mshould_sync:\n\u001b[1;32m   1566\u001b[0m         context\u001b[38;5;241m.\u001b[39masync_wait()\n",
      "File \u001b[0;32m~/opt/anaconda3/envs/tensorflow/lib/python3.8/site-packages/tensorflow/python/util/traceback_utils.py:150\u001b[0m, in \u001b[0;36mfilter_traceback.<locals>.error_handler\u001b[0;34m(*args, **kwargs)\u001b[0m\n\u001b[1;32m    148\u001b[0m filtered_tb \u001b[38;5;241m=\u001b[39m \u001b[38;5;28;01mNone\u001b[39;00m\n\u001b[1;32m    149\u001b[0m \u001b[38;5;28;01mtry\u001b[39;00m:\n\u001b[0;32m--> 150\u001b[0m   \u001b[38;5;28;01mreturn\u001b[39;00m \u001b[43mfn\u001b[49m\u001b[43m(\u001b[49m\u001b[38;5;241;43m*\u001b[39;49m\u001b[43margs\u001b[49m\u001b[43m,\u001b[49m\u001b[43m \u001b[49m\u001b[38;5;241;43m*\u001b[39;49m\u001b[38;5;241;43m*\u001b[39;49m\u001b[43mkwargs\u001b[49m\u001b[43m)\u001b[49m\n\u001b[1;32m    151\u001b[0m \u001b[38;5;28;01mexcept\u001b[39;00m \u001b[38;5;167;01mException\u001b[39;00m \u001b[38;5;28;01mas\u001b[39;00m e:\n\u001b[1;32m    152\u001b[0m   filtered_tb \u001b[38;5;241m=\u001b[39m _process_traceback_frames(e\u001b[38;5;241m.\u001b[39m__traceback__)\n",
      "File \u001b[0;32m~/opt/anaconda3/envs/tensorflow/lib/python3.8/site-packages/tensorflow/python/eager/def_function.py:915\u001b[0m, in \u001b[0;36mFunction.__call__\u001b[0;34m(self, *args, **kwds)\u001b[0m\n\u001b[1;32m    912\u001b[0m compiler \u001b[38;5;241m=\u001b[39m \u001b[38;5;124m\"\u001b[39m\u001b[38;5;124mxla\u001b[39m\u001b[38;5;124m\"\u001b[39m \u001b[38;5;28;01mif\u001b[39;00m \u001b[38;5;28mself\u001b[39m\u001b[38;5;241m.\u001b[39m_jit_compile \u001b[38;5;28;01melse\u001b[39;00m \u001b[38;5;124m\"\u001b[39m\u001b[38;5;124mnonXla\u001b[39m\u001b[38;5;124m\"\u001b[39m\n\u001b[1;32m    914\u001b[0m \u001b[38;5;28;01mwith\u001b[39;00m OptionalXlaContext(\u001b[38;5;28mself\u001b[39m\u001b[38;5;241m.\u001b[39m_jit_compile):\n\u001b[0;32m--> 915\u001b[0m   result \u001b[38;5;241m=\u001b[39m \u001b[38;5;28;43mself\u001b[39;49m\u001b[38;5;241;43m.\u001b[39;49m\u001b[43m_call\u001b[49m\u001b[43m(\u001b[49m\u001b[38;5;241;43m*\u001b[39;49m\u001b[43margs\u001b[49m\u001b[43m,\u001b[49m\u001b[43m \u001b[49m\u001b[38;5;241;43m*\u001b[39;49m\u001b[38;5;241;43m*\u001b[39;49m\u001b[43mkwds\u001b[49m\u001b[43m)\u001b[49m\n\u001b[1;32m    917\u001b[0m new_tracing_count \u001b[38;5;241m=\u001b[39m \u001b[38;5;28mself\u001b[39m\u001b[38;5;241m.\u001b[39mexperimental_get_tracing_count()\n\u001b[1;32m    918\u001b[0m without_tracing \u001b[38;5;241m=\u001b[39m (tracing_count \u001b[38;5;241m==\u001b[39m new_tracing_count)\n",
      "File \u001b[0;32m~/opt/anaconda3/envs/tensorflow/lib/python3.8/site-packages/tensorflow/python/eager/def_function.py:947\u001b[0m, in \u001b[0;36mFunction._call\u001b[0;34m(self, *args, **kwds)\u001b[0m\n\u001b[1;32m    944\u001b[0m   \u001b[38;5;28mself\u001b[39m\u001b[38;5;241m.\u001b[39m_lock\u001b[38;5;241m.\u001b[39mrelease()\n\u001b[1;32m    945\u001b[0m   \u001b[38;5;66;03m# In this case we have created variables on the first call, so we run the\u001b[39;00m\n\u001b[1;32m    946\u001b[0m   \u001b[38;5;66;03m# defunned version which is guaranteed to never create variables.\u001b[39;00m\n\u001b[0;32m--> 947\u001b[0m   \u001b[38;5;28;01mreturn\u001b[39;00m \u001b[38;5;28;43mself\u001b[39;49m\u001b[38;5;241;43m.\u001b[39;49m\u001b[43m_stateless_fn\u001b[49m\u001b[43m(\u001b[49m\u001b[38;5;241;43m*\u001b[39;49m\u001b[43margs\u001b[49m\u001b[43m,\u001b[49m\u001b[43m \u001b[49m\u001b[38;5;241;43m*\u001b[39;49m\u001b[38;5;241;43m*\u001b[39;49m\u001b[43mkwds\u001b[49m\u001b[43m)\u001b[49m  \u001b[38;5;66;03m# pylint: disable=not-callable\u001b[39;00m\n\u001b[1;32m    948\u001b[0m \u001b[38;5;28;01melif\u001b[39;00m \u001b[38;5;28mself\u001b[39m\u001b[38;5;241m.\u001b[39m_stateful_fn \u001b[38;5;129;01mis\u001b[39;00m \u001b[38;5;129;01mnot\u001b[39;00m \u001b[38;5;28;01mNone\u001b[39;00m:\n\u001b[1;32m    949\u001b[0m   \u001b[38;5;66;03m# Release the lock early so that multiple threads can perform the call\u001b[39;00m\n\u001b[1;32m    950\u001b[0m   \u001b[38;5;66;03m# in parallel.\u001b[39;00m\n\u001b[1;32m    951\u001b[0m   \u001b[38;5;28mself\u001b[39m\u001b[38;5;241m.\u001b[39m_lock\u001b[38;5;241m.\u001b[39mrelease()\n",
      "File \u001b[0;32m~/opt/anaconda3/envs/tensorflow/lib/python3.8/site-packages/tensorflow/python/eager/function.py:2496\u001b[0m, in \u001b[0;36mFunction.__call__\u001b[0;34m(self, *args, **kwargs)\u001b[0m\n\u001b[1;32m   2493\u001b[0m \u001b[38;5;28;01mwith\u001b[39;00m \u001b[38;5;28mself\u001b[39m\u001b[38;5;241m.\u001b[39m_lock:\n\u001b[1;32m   2494\u001b[0m   (graph_function,\n\u001b[1;32m   2495\u001b[0m    filtered_flat_args) \u001b[38;5;241m=\u001b[39m \u001b[38;5;28mself\u001b[39m\u001b[38;5;241m.\u001b[39m_maybe_define_function(args, kwargs)\n\u001b[0;32m-> 2496\u001b[0m \u001b[38;5;28;01mreturn\u001b[39;00m \u001b[43mgraph_function\u001b[49m\u001b[38;5;241;43m.\u001b[39;49m\u001b[43m_call_flat\u001b[49m\u001b[43m(\u001b[49m\n\u001b[1;32m   2497\u001b[0m \u001b[43m    \u001b[49m\u001b[43mfiltered_flat_args\u001b[49m\u001b[43m,\u001b[49m\u001b[43m \u001b[49m\u001b[43mcaptured_inputs\u001b[49m\u001b[38;5;241;43m=\u001b[39;49m\u001b[43mgraph_function\u001b[49m\u001b[38;5;241;43m.\u001b[39;49m\u001b[43mcaptured_inputs\u001b[49m\u001b[43m)\u001b[49m\n",
      "File \u001b[0;32m~/opt/anaconda3/envs/tensorflow/lib/python3.8/site-packages/tensorflow/python/eager/function.py:1862\u001b[0m, in \u001b[0;36mConcreteFunction._call_flat\u001b[0;34m(self, args, captured_inputs, cancellation_manager)\u001b[0m\n\u001b[1;32m   1858\u001b[0m possible_gradient_type \u001b[38;5;241m=\u001b[39m gradients_util\u001b[38;5;241m.\u001b[39mPossibleTapeGradientTypes(args)\n\u001b[1;32m   1859\u001b[0m \u001b[38;5;28;01mif\u001b[39;00m (possible_gradient_type \u001b[38;5;241m==\u001b[39m gradients_util\u001b[38;5;241m.\u001b[39mPOSSIBLE_GRADIENT_TYPES_NONE\n\u001b[1;32m   1860\u001b[0m     \u001b[38;5;129;01mand\u001b[39;00m executing_eagerly):\n\u001b[1;32m   1861\u001b[0m   \u001b[38;5;66;03m# No tape is watching; skip to running the function.\u001b[39;00m\n\u001b[0;32m-> 1862\u001b[0m   \u001b[38;5;28;01mreturn\u001b[39;00m \u001b[38;5;28mself\u001b[39m\u001b[38;5;241m.\u001b[39m_build_call_outputs(\u001b[38;5;28;43mself\u001b[39;49m\u001b[38;5;241;43m.\u001b[39;49m\u001b[43m_inference_function\u001b[49m\u001b[38;5;241;43m.\u001b[39;49m\u001b[43mcall\u001b[49m\u001b[43m(\u001b[49m\n\u001b[1;32m   1863\u001b[0m \u001b[43m      \u001b[49m\u001b[43mctx\u001b[49m\u001b[43m,\u001b[49m\u001b[43m \u001b[49m\u001b[43margs\u001b[49m\u001b[43m,\u001b[49m\u001b[43m \u001b[49m\u001b[43mcancellation_manager\u001b[49m\u001b[38;5;241;43m=\u001b[39;49m\u001b[43mcancellation_manager\u001b[49m\u001b[43m)\u001b[49m)\n\u001b[1;32m   1864\u001b[0m forward_backward \u001b[38;5;241m=\u001b[39m \u001b[38;5;28mself\u001b[39m\u001b[38;5;241m.\u001b[39m_select_forward_and_backward_functions(\n\u001b[1;32m   1865\u001b[0m     args,\n\u001b[1;32m   1866\u001b[0m     possible_gradient_type,\n\u001b[1;32m   1867\u001b[0m     executing_eagerly)\n\u001b[1;32m   1868\u001b[0m forward_function, args_with_tangents \u001b[38;5;241m=\u001b[39m forward_backward\u001b[38;5;241m.\u001b[39mforward()\n",
      "File \u001b[0;32m~/opt/anaconda3/envs/tensorflow/lib/python3.8/site-packages/tensorflow/python/eager/function.py:499\u001b[0m, in \u001b[0;36m_EagerDefinedFunction.call\u001b[0;34m(self, ctx, args, cancellation_manager)\u001b[0m\n\u001b[1;32m    497\u001b[0m \u001b[38;5;28;01mwith\u001b[39;00m _InterpolateFunctionError(\u001b[38;5;28mself\u001b[39m):\n\u001b[1;32m    498\u001b[0m   \u001b[38;5;28;01mif\u001b[39;00m cancellation_manager \u001b[38;5;129;01mis\u001b[39;00m \u001b[38;5;28;01mNone\u001b[39;00m:\n\u001b[0;32m--> 499\u001b[0m     outputs \u001b[38;5;241m=\u001b[39m \u001b[43mexecute\u001b[49m\u001b[38;5;241;43m.\u001b[39;49m\u001b[43mexecute\u001b[49m\u001b[43m(\u001b[49m\n\u001b[1;32m    500\u001b[0m \u001b[43m        \u001b[49m\u001b[38;5;28;43mstr\u001b[39;49m\u001b[43m(\u001b[49m\u001b[38;5;28;43mself\u001b[39;49m\u001b[38;5;241;43m.\u001b[39;49m\u001b[43msignature\u001b[49m\u001b[38;5;241;43m.\u001b[39;49m\u001b[43mname\u001b[49m\u001b[43m)\u001b[49m\u001b[43m,\u001b[49m\n\u001b[1;32m    501\u001b[0m \u001b[43m        \u001b[49m\u001b[43mnum_outputs\u001b[49m\u001b[38;5;241;43m=\u001b[39;49m\u001b[38;5;28;43mself\u001b[39;49m\u001b[38;5;241;43m.\u001b[39;49m\u001b[43m_num_outputs\u001b[49m\u001b[43m,\u001b[49m\n\u001b[1;32m    502\u001b[0m \u001b[43m        \u001b[49m\u001b[43minputs\u001b[49m\u001b[38;5;241;43m=\u001b[39;49m\u001b[43margs\u001b[49m\u001b[43m,\u001b[49m\n\u001b[1;32m    503\u001b[0m \u001b[43m        \u001b[49m\u001b[43mattrs\u001b[49m\u001b[38;5;241;43m=\u001b[39;49m\u001b[43mattrs\u001b[49m\u001b[43m,\u001b[49m\n\u001b[1;32m    504\u001b[0m \u001b[43m        \u001b[49m\u001b[43mctx\u001b[49m\u001b[38;5;241;43m=\u001b[39;49m\u001b[43mctx\u001b[49m\u001b[43m)\u001b[49m\n\u001b[1;32m    505\u001b[0m   \u001b[38;5;28;01melse\u001b[39;00m:\n\u001b[1;32m    506\u001b[0m     outputs \u001b[38;5;241m=\u001b[39m execute\u001b[38;5;241m.\u001b[39mexecute_with_cancellation(\n\u001b[1;32m    507\u001b[0m         \u001b[38;5;28mstr\u001b[39m(\u001b[38;5;28mself\u001b[39m\u001b[38;5;241m.\u001b[39msignature\u001b[38;5;241m.\u001b[39mname),\n\u001b[1;32m    508\u001b[0m         num_outputs\u001b[38;5;241m=\u001b[39m\u001b[38;5;28mself\u001b[39m\u001b[38;5;241m.\u001b[39m_num_outputs,\n\u001b[0;32m   (...)\u001b[0m\n\u001b[1;32m    511\u001b[0m         ctx\u001b[38;5;241m=\u001b[39mctx,\n\u001b[1;32m    512\u001b[0m         cancellation_manager\u001b[38;5;241m=\u001b[39mcancellation_manager)\n",
      "File \u001b[0;32m~/opt/anaconda3/envs/tensorflow/lib/python3.8/site-packages/tensorflow/python/eager/execute.py:54\u001b[0m, in \u001b[0;36mquick_execute\u001b[0;34m(op_name, num_outputs, inputs, attrs, ctx, name)\u001b[0m\n\u001b[1;32m     52\u001b[0m \u001b[38;5;28;01mtry\u001b[39;00m:\n\u001b[1;32m     53\u001b[0m   ctx\u001b[38;5;241m.\u001b[39mensure_initialized()\n\u001b[0;32m---> 54\u001b[0m   tensors \u001b[38;5;241m=\u001b[39m \u001b[43mpywrap_tfe\u001b[49m\u001b[38;5;241;43m.\u001b[39;49m\u001b[43mTFE_Py_Execute\u001b[49m\u001b[43m(\u001b[49m\u001b[43mctx\u001b[49m\u001b[38;5;241;43m.\u001b[39;49m\u001b[43m_handle\u001b[49m\u001b[43m,\u001b[49m\u001b[43m \u001b[49m\u001b[43mdevice_name\u001b[49m\u001b[43m,\u001b[49m\u001b[43m \u001b[49m\u001b[43mop_name\u001b[49m\u001b[43m,\u001b[49m\n\u001b[1;32m     55\u001b[0m \u001b[43m                                      \u001b[49m\u001b[43minputs\u001b[49m\u001b[43m,\u001b[49m\u001b[43m \u001b[49m\u001b[43mattrs\u001b[49m\u001b[43m,\u001b[49m\u001b[43m \u001b[49m\u001b[43mnum_outputs\u001b[49m\u001b[43m)\u001b[49m\n\u001b[1;32m     56\u001b[0m \u001b[38;5;28;01mexcept\u001b[39;00m core\u001b[38;5;241m.\u001b[39m_NotOkStatusException \u001b[38;5;28;01mas\u001b[39;00m e:\n\u001b[1;32m     57\u001b[0m   \u001b[38;5;28;01mif\u001b[39;00m name \u001b[38;5;129;01mis\u001b[39;00m \u001b[38;5;129;01mnot\u001b[39;00m \u001b[38;5;28;01mNone\u001b[39;00m:\n",
      "\u001b[0;31mKeyboardInterrupt\u001b[0m: "
     ]
    }
   ],
   "source": [
    "initial_encoder = encoder()\n",
    "\n",
    "encoder_projection = projection(initial_encoder)\n",
    "encoder_projection.compile(\n",
    "    optimizer=keras.optimizers.Adam(learning_rate),\n",
    "    loss=SupervisedContrastiveLoss(temperature),\n",
    ")\n",
    "\n",
    "encoder_projection.summary()\n",
    "\n",
    "history = encoder_projection.fit(\n",
    "    train_ds, batch_size=batch_size, epochs=num_epochs\n",
    ")"
   ]
  },
  {
   "cell_type": "code",
   "execution_count": null,
   "id": "a6e6b762-0b86-4029-9258-44b3e76ee2ce",
   "metadata": {},
   "outputs": [],
   "source": [
    "accuracy = encoderprojection.evaluate(test_ds)[1]\n",
    "print(f\"Accuracy: {accuracy * 100}%\")\n",
    "\n",
    "plt.plot(history.history['accuracy'])\n",
    "plt.plot(history.history['val_accuracy'])\n",
    "plt.legend(['train', 'val'], loc='upper left')\n",
    "plt.title('Accuracy')\n",
    "plt.xlabel('Epoch')\n",
    "plt.ylabel('Accuracy')\n",
    "plt.show()\n",
    "\n",
    "plt.plot(history.history['loss'])\n",
    "plt.plot(history.history['val_loss'])\n",
    "plt.legend(['train', 'val'], loc='upper left')\n",
    "plt.title('Loss')\n",
    "plt.xlabel('Epoch')\n",
    "plt.ylabel('Loss')\n",
    "plt.show()"
   ]
  }
 ],
 "metadata": {
  "kernelspec": {
   "display_name": "Python (tensorflow)",
   "language": "python",
   "name": "tensorflow"
  },
  "language_info": {
   "codemirror_mode": {
    "name": "ipython",
    "version": 3
   },
   "file_extension": ".py",
   "mimetype": "text/x-python",
   "name": "python",
   "nbconvert_exporter": "python",
   "pygments_lexer": "ipython3",
   "version": "3.8.13"
  }
 },
 "nbformat": 4,
 "nbformat_minor": 5
}
