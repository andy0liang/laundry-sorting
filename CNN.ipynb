{
 "cells": [
  {
   "cell_type": "markdown",
   "id": "85922cd2-5ed4-44b9-9f3a-fde0eff217ea",
   "metadata": {},
   "source": [
    "Load the dataset"
   ]
  },
  {
   "cell_type": "code",
   "execution_count": 113,
   "id": "1b89cc8e-2217-441a-8aa0-4d35ad117795",
   "metadata": {},
   "outputs": [],
   "source": [
    "from keras.preprocessing.image import ImageDataGenerator\n",
    "from keras.models import Sequential\n",
    "from keras.layers import Conv2D, MaxPooling2D\n",
    "from keras.layers import Activation, Dropout, Flatten, Dense\n",
    "from keras import backend as K\n",
    "import tensorflow as tf\n",
    "import tensorflow.keras as keras\n",
    "from tensorflow.keras import layers\n",
    "import numpy as np\n",
    "import matplotlib.pyplot as plt\n",
    "import tensorflow_addons as tfa\n",
    "from tensorflow.keras.layers.experimental import preprocessing\n",
    "from simclr import SimCLR\n",
    "import tensorflow_datasets as tfds\n"
   ]
  },
  {
   "cell_type": "code",
   "execution_count": 114,
   "id": "dae96513-428f-4655-9504-d42f045b63c3",
   "metadata": {},
   "outputs": [],
   "source": [
    "import csv\n",
    "import os\n",
    "\n",
    "datapath = 'clothing-dataset/'\n",
    "data = []\n",
    "with open(os.path.join(datapath, 'images.csv')) as csv_file:\n",
    "    reader = csv.reader(csv_file, delimiter=',')\n",
    "    for line in reader:\n",
    "        data.append(line)\n",
    "    "
   ]
  },
  {
   "cell_type": "code",
   "execution_count": 115,
   "id": "65c2fcdf-b963-4bdc-8ad5-ea75ccbe2e2f",
   "metadata": {},
   "outputs": [
    {
     "name": "stdout",
     "output_type": "stream",
     "text": [
      "[['image', 'sender_id', 'label', 'kids'], ['4285fab0-751a-4b74-8e9b-43af05deee22', '124', 'Not sure', 'False'], ['ea7b6656-3f84-4eb3-9099-23e623fc1018', '148', 'T-Shirt', 'False'], ['00627a3f-0477-401c-95eb-92642cbe078d', '94', 'Not sure', 'False'], ['ea2ffd4d-9b25-4ca8-9dc2-bd27f1cc59fa', '43', 'T-Shirt', 'False'], ['3b86d877-2b9e-4c8b-a6a2-1d87513309d0', '189', 'Shoes', 'False'], ['5d3a1404-697f-479f-9090-c1ecd0413d27', '138', 'Shorts', 'False'], ['b0c03127-9dfb-4573-8934-1958396937bf', '138', 'Shirt', 'False'], ['4c8f245e-a039-46fd-a6b9-1bb51e83fc05', '226', 'T-Shirt', 'False'], ['c995c900-693d-4dd6-8995-43f3051ec488', '337', 'Pants', 'False']]\n"
     ]
    }
   ],
   "source": [
    "print(data[:10])"
   ]
  },
  {
   "cell_type": "code",
   "execution_count": 116,
   "id": "584fafb3-d228-4f04-bbe1-c10b8f9b2411",
   "metadata": {},
   "outputs": [],
   "source": [
    "labels = data[0]\n",
    "data = data[1:]"
   ]
  },
  {
   "cell_type": "code",
   "execution_count": 117,
   "id": "109a017d-2769-4f46-8870-4f03fb09f552",
   "metadata": {},
   "outputs": [
    {
     "name": "stdout",
     "output_type": "stream",
     "text": [
      "['image', 'sender_id', 'label', 'kids']\n",
      "[['4285fab0-751a-4b74-8e9b-43af05deee22', '124', 'Not sure', 'False'], ['ea7b6656-3f84-4eb3-9099-23e623fc1018', '148', 'T-Shirt', 'False'], ['00627a3f-0477-401c-95eb-92642cbe078d', '94', 'Not sure', 'False'], ['ea2ffd4d-9b25-4ca8-9dc2-bd27f1cc59fa', '43', 'T-Shirt', 'False'], ['3b86d877-2b9e-4c8b-a6a2-1d87513309d0', '189', 'Shoes', 'False'], ['5d3a1404-697f-479f-9090-c1ecd0413d27', '138', 'Shorts', 'False'], ['b0c03127-9dfb-4573-8934-1958396937bf', '138', 'Shirt', 'False'], ['4c8f245e-a039-46fd-a6b9-1bb51e83fc05', '226', 'T-Shirt', 'False'], ['c995c900-693d-4dd6-8995-43f3051ec488', '337', 'Pants', 'False'], ['bf78527f-0734-44fd-a968-f6c32c12d61e', '175', 'Shoes', 'False']]\n"
     ]
    }
   ],
   "source": [
    "print(labels)\n",
    "print(data[:10])"
   ]
  },
  {
   "cell_type": "code",
   "execution_count": 118,
   "id": "cb1f6f5a-1295-4aa0-b700-195d18f916b9",
   "metadata": {},
   "outputs": [
    {
     "name": "stdout",
     "output_type": "stream",
     "text": [
      "5403\n"
     ]
    }
   ],
   "source": [
    "num_examples = len(data)\n",
    "print(len(data))"
   ]
  },
  {
   "cell_type": "code",
   "execution_count": 119,
   "id": "5a1d49f8-1f00-4138-8c1e-1cfc3289ce72",
   "metadata": {},
   "outputs": [
    {
     "name": "stdout",
     "output_type": "stream",
     "text": [
      "4961\n"
     ]
    }
   ],
   "source": [
    "label_counts = dict()\n",
    "for row in data:\n",
    "    if row[2] not in label_counts:\n",
    "        label_counts[row[2]] = 0\n",
    "    label_counts[row[2]] += 1\n",
    "    \n",
    "valid_labels = dict()\n",
    "for k, v in label_counts.items():\n",
    "    if v >= 100 and k not in ['Not sure', 'Others', 'Skip']:\n",
    "        valid_labels[k] = v\n",
    "\n",
    "filename_to_label = dict()\n",
    "cleaned_data = []\n",
    "valid_filenames = []\n",
    "for i in range(len(data)):\n",
    "    if data[i][2] in valid_labels.keys():\n",
    "        cleaned_data.append(data[i])\n",
    "        valid_filenames.append(data[i][0])\n",
    "        filename_to_label[data[i][0]] = data[i][2]\n",
    "\n",
    "\n",
    "\n",
    "num_examples = len(cleaned_data)\n",
    "print(num_examples)"
   ]
  },
  {
   "cell_type": "code",
   "execution_count": 120,
   "id": "e43e4a5d-811c-43f2-bf02-8a253c58ac27",
   "metadata": {},
   "outputs": [],
   "source": [
    "import os\n",
    "import shutil\n",
    "\n",
    "imagespath = 'clothing-dataset/images'\n",
    "images = [f for f in os.listdir(imagespath) if os.path.isfile(os.path.join(imagespath, f))]\n",
    "\n",
    "num_images_moved = 0\n",
    "\n",
    "\n",
    "\n",
    "for i in range(len(images)):\n",
    "    filename = images[i].split(\".\")[0]\n",
    "    if filename not in valid_filenames:\n",
    "        continue\n",
    "        \n",
    "    if num_images_moved < num_train + num_validate:\n",
    "        folder_name = 'train'\n",
    "    else:\n",
    "        folder_name = 'test'\n",
    "    \n",
    "    new_folder = os.path.join(imagespath, folder_name)\n",
    "    \n",
    "    classname = filename_to_label[filename]\n",
    "    finalfoldername = os.path.join(new_folder, classname)\n",
    "    \n",
    "    if not os.path.exists(finalfoldername):\n",
    "        os.makedirs(finalfoldername)\n",
    "    \n",
    "    old_image_path = os.path.join(imagespath, images[i])\n",
    "    new_image_path = os.path.join(finalfoldername, images[i])\n",
    "    shutil.move(old_image_path, new_image_path)\n",
    "    num_images_moved += 1"
   ]
  },
  {
   "cell_type": "code",
   "execution_count": 121,
   "id": "0e60d542-006b-459c-b28b-c720b6229169",
   "metadata": {},
   "outputs": [
    {
     "name": "stdout",
     "output_type": "stream",
     "text": [
      "14\n"
     ]
    }
   ],
   "source": [
    "num_train = 3600\n",
    "num_validate = 900\n",
    "num_test = 461\n",
    "epochs = 50\n",
    "batch_size = 16\n",
    "train_dir = os.path.join(os.getcwd(), os.path.join(imagespath, 'train'))\n",
    "img_height = 128\n",
    "img_width = 128\n",
    "input_shape = (128, 128, 3)\n",
    "num_classes = len(valid_labels)\n",
    "labels = [\"Blazer\", 'Dress', 'Hat', 'Hoodie', 'Longsleeve', 'Outwear', 'Pants', 'Polo', 'Shirt', 'Shoes', 'Shorts', 'Skirt', 'T-Shirt', 'Undershirt']\n",
    "print(num_classes)"
   ]
  },
  {
   "cell_type": "code",
   "execution_count": 122,
   "id": "7a18531a-c23d-4bf8-b758-e3d3db07164a",
   "metadata": {},
   "outputs": [
    {
     "name": "stdout",
     "output_type": "stream",
     "text": [
      "Found 4500 files belonging to 14 classes.\n",
      "Using 3600 files for training.\n",
      "Found 4500 files belonging to 14 classes.\n",
      "Using 900 files for validation.\n"
     ]
    }
   ],
   "source": [
    "import random\n",
    "seed = random.randint(1, 10000)\n",
    "train_ds = tf.keras.utils.image_dataset_from_directory(\n",
    "  train_dir,\n",
    "  validation_split=0.2,\n",
    "  subset=\"training\",\n",
    "  seed=seed,\n",
    "  image_size=(img_height, img_width),\n",
    "  batch_size=batch_size,\n",
    ")\n",
    "\n",
    "val_ds = tf.keras.utils.image_dataset_from_directory(\n",
    "  train_dir,\n",
    "  validation_split=0.2,\n",
    "  subset=\"validation\",\n",
    "  seed=seed,\n",
    "  image_size=(img_height, img_width),\n",
    "  batch_size=batch_size)"
   ]
  },
  {
   "cell_type": "code",
   "execution_count": null,
   "id": "89c54a86-f998-41a9-b223-441019acf585",
   "metadata": {},
   "outputs": [],
   "source": [
    "lmao = train_ds.take(1)\n",
    "fig, ax = plt.subplots(3, 3)\n",
    "for x, y in tfds.as_numpy(lmao):\n",
    "    for i in range(batch_size):\n",
    "        if i < 9:\n",
    "            ax[i // 3, i % 3].imshow(x[i] / 255)\n",
    "            ax[i // 3, i % 3].set_title(labels[y[i]])\n",
    "            ax[i // 3, i % 3].axis('off')"
   ]
  },
  {
   "cell_type": "code",
   "execution_count": 123,
   "id": "bcb8b9db-28f4-409a-8fb7-22c4c9e487a4",
   "metadata": {},
   "outputs": [],
   "source": [
    "data_augmentation = tf.keras.Sequential([tf.keras.layers.RandomFlip(\"horizontal_and_vertical\"), \n",
    "                                         tf.keras.layers.RandomRotation(0.2),])\n"
   ]
  },
  {
   "cell_type": "code",
   "execution_count": 124,
   "id": "ff8d9752-0728-47d9-b2e6-f87f62c02332",
   "metadata": {},
   "outputs": [
    {
     "name": "stdout",
     "output_type": "stream",
     "text": [
      "WARNING:tensorflow:Layers in a Sequential model should only have a single input tensor. Received: inputs=<BatchDataset element_spec=(TensorSpec(shape=(None, 128, 128, 3), dtype=tf.float32, name=None), TensorSpec(shape=(None,), dtype=tf.int32, name=None))>. Consider rewriting this model with the Functional API.\n"
     ]
    },
    {
     "ename": "ValueError",
     "evalue": "Exception encountered when calling layer \"random_flip_14\" \"                 f\"(type RandomFlip).\n\nAttempt to convert a value (<BatchDataset element_spec=(TensorSpec(shape=(None, 128, 128, 3), dtype=tf.float32, name=None), TensorSpec(shape=(None,), dtype=tf.int32, name=None))>) with an unsupported type (<class 'tensorflow.python.data.ops.dataset_ops.BatchDataset'>) to a Tensor.\n\nCall arguments received by layer \"random_flip_14\" \"                 f\"(type RandomFlip):\n  • inputs=<BatchDataset element_spec=(TensorSpec(shape=(None, 128, 128, 3), dtype=tf.float32, name=None), TensorSpec(shape=(None,), dtype=tf.int32, name=None))>\n  • training=False",
     "output_type": "error",
     "traceback": [
      "\u001b[0;31m---------------------------------------------------------------------------\u001b[0m",
      "\u001b[0;31mValueError\u001b[0m                                Traceback (most recent call last)",
      "Cell \u001b[0;32mIn [124], line 1\u001b[0m\n\u001b[0;32m----> 1\u001b[0m output \u001b[38;5;241m=\u001b[39m \u001b[43mdata_augmentation\u001b[49m\u001b[43m(\u001b[49m\u001b[43mtrain_ds\u001b[49m\u001b[43m)\u001b[49m\n",
      "File \u001b[0;32m~/opt/anaconda3/envs/tensorflow/lib/python3.8/site-packages/keras/utils/traceback_utils.py:70\u001b[0m, in \u001b[0;36mfilter_traceback.<locals>.error_handler\u001b[0;34m(*args, **kwargs)\u001b[0m\n\u001b[1;32m     67\u001b[0m     filtered_tb \u001b[38;5;241m=\u001b[39m _process_traceback_frames(e\u001b[38;5;241m.\u001b[39m__traceback__)\n\u001b[1;32m     68\u001b[0m     \u001b[38;5;66;03m# To get the full stack trace, call:\u001b[39;00m\n\u001b[1;32m     69\u001b[0m     \u001b[38;5;66;03m# `tf.debugging.disable_traceback_filtering()`\u001b[39;00m\n\u001b[0;32m---> 70\u001b[0m     \u001b[38;5;28;01mraise\u001b[39;00m e\u001b[38;5;241m.\u001b[39mwith_traceback(filtered_tb) \u001b[38;5;28;01mfrom\u001b[39;00m \u001b[38;5;28mNone\u001b[39m\n\u001b[1;32m     71\u001b[0m \u001b[38;5;28;01mfinally\u001b[39;00m:\n\u001b[1;32m     72\u001b[0m     \u001b[38;5;28;01mdel\u001b[39;00m filtered_tb\n",
      "File \u001b[0;32m~/opt/anaconda3/envs/tensorflow/lib/python3.8/site-packages/tensorflow/python/framework/constant_op.py:102\u001b[0m, in \u001b[0;36mconvert_to_eager_tensor\u001b[0;34m(value, ctx, dtype)\u001b[0m\n\u001b[1;32m    100\u001b[0m     dtype \u001b[38;5;241m=\u001b[39m dtypes\u001b[38;5;241m.\u001b[39mas_dtype(dtype)\u001b[38;5;241m.\u001b[39mas_datatype_enum\n\u001b[1;32m    101\u001b[0m ctx\u001b[38;5;241m.\u001b[39mensure_initialized()\n\u001b[0;32m--> 102\u001b[0m \u001b[38;5;28;01mreturn\u001b[39;00m \u001b[43mops\u001b[49m\u001b[38;5;241;43m.\u001b[39;49m\u001b[43mEagerTensor\u001b[49m\u001b[43m(\u001b[49m\u001b[43mvalue\u001b[49m\u001b[43m,\u001b[49m\u001b[43m \u001b[49m\u001b[43mctx\u001b[49m\u001b[38;5;241;43m.\u001b[39;49m\u001b[43mdevice_name\u001b[49m\u001b[43m,\u001b[49m\u001b[43m \u001b[49m\u001b[43mdtype\u001b[49m\u001b[43m)\u001b[49m\n",
      "\u001b[0;31mValueError\u001b[0m: Exception encountered when calling layer \"random_flip_14\" \"                 f\"(type RandomFlip).\n\nAttempt to convert a value (<BatchDataset element_spec=(TensorSpec(shape=(None, 128, 128, 3), dtype=tf.float32, name=None), TensorSpec(shape=(None,), dtype=tf.int32, name=None))>) with an unsupported type (<class 'tensorflow.python.data.ops.dataset_ops.BatchDataset'>) to a Tensor.\n\nCall arguments received by layer \"random_flip_14\" \"                 f\"(type RandomFlip):\n  • inputs=<BatchDataset element_spec=(TensorSpec(shape=(None, 128, 128, 3), dtype=tf.float32, name=None), TensorSpec(shape=(None,), dtype=tf.int32, name=None))>\n  • training=False"
     ]
    }
   ],
   "source": [
    "output = data_augmentation(train_ds)"
   ]
  },
  {
   "cell_type": "code",
   "execution_count": null,
   "id": "958b0137-63fa-44de-a9cf-c6bdb1ce4e5b",
   "metadata": {},
   "outputs": [],
   "source": [
    "model = tf.keras.Sequential([\n",
    "    data_augmentation, \n",
    "  tf.keras.layers.Rescaling(1./255),\n",
    "  tf.keras.layers.Conv2D(32, 3, activation='relu'),\n",
    "  tf.keras.layers.MaxPooling2D(),\n",
    "  tf.keras.layers.Conv2D(32, 3, activation='relu'),\n",
    "  tf.keras.layers.MaxPooling2D(),\n",
    "  tf.keras.layers.Flatten(),\n",
    "  tf.keras.layers.Dense(128, activation='relu'),\n",
    "  tf.keras.layers.Dense(num_classes)\n",
    "])"
   ]
  },
  {
   "cell_type": "code",
   "execution_count": null,
   "id": "800daa2f-8f8f-42e5-8aeb-2eac309e8165",
   "metadata": {},
   "outputs": [],
   "source": [
    "model.compile(\n",
    "  optimizer='adam',\n",
    "  loss=tf.keras.losses.SparseCategoricalCrossentropy(from_logits=True),\n",
    "  metrics=['accuracy'])"
   ]
  },
  {
   "cell_type": "code",
   "execution_count": null,
   "id": "e75435d4-93ed-4601-96f7-55cfd2e96bbf",
   "metadata": {
    "tags": []
   },
   "outputs": [],
   "source": [
    "history = model.fit(\n",
    "  train_ds,\n",
    "  validation_data=val_ds,\n",
    "  epochs=epochs\n",
    ")"
   ]
  },
  {
   "cell_type": "code",
   "execution_count": null,
   "id": "d3a7e8b5-502b-4f44-a0b8-f52592dacfdd",
   "metadata": {},
   "outputs": [],
   "source": [
    "predictor = tf.keras.Sequential([\n",
    "    model,\n",
    "    tf.keras.layers.Softmax()\n",
    "])\n",
    "predictor.compile(\n",
    "  optimizer='adam',\n",
    "  loss=tf.keras.losses.SparseCategoricalCrossentropy(from_logits=False),\n",
    "  metrics=['accuracy'])\n",
    "accuracy = predictor.evaluate(test_ds)[1]\n",
    "print(f\"Test accuracy: {round(accuracy * 100, 2)}%\")\n",
    "# summarize history for accuracy\n",
    "plt.plot(history.history['accuracy'])\n",
    "plt.plot(history.history['val_accuracy'])\n",
    "plt.title('model accuracy')\n",
    "plt.ylabel('accuracy')\n",
    "plt.xlabel('epoch')\n",
    "plt.legend(['train', 'val'], loc='upper left')\n",
    "plt.show()\n",
    "# summarize history for loss\n",
    "plt.plot(history.history['loss'])\n",
    "plt.plot(history.history['val_loss'])\n",
    "plt.title('model loss')\n",
    "plt.ylabel('loss')\n",
    "plt.xlabel('epoch')\n",
    "plt.legend(['train', 'val'], loc='upper left')\n",
    "plt.show()"
   ]
  },
  {
   "cell_type": "code",
   "execution_count": null,
   "id": "757c074f-7573-4d86-bc6d-692b58a92ce8",
   "metadata": {},
   "outputs": [],
   "source": [
    "test_dir = os.path.join(os.getcwd(), os.path.join(imagespath, 'test'))\n",
    "test_ds = tf.keras.utils.image_dataset_from_directory(\n",
    "  test_dir,\n",
    "  seed=seed,\n",
    "  image_size=(img_height, img_width),\n",
    "  batch_size=batch_size)"
   ]
  },
  {
   "cell_type": "code",
   "execution_count": null,
   "id": "46668c8f-5c20-46a0-860e-c6aeb1a85c95",
   "metadata": {},
   "outputs": [],
   "source": [
    "def create_encoder():\n",
    "    transfer_model = tf.keras.Sequential()\n",
    "    resnet50 = tf.keras.applications.ResNet50V2(include_top=False,\n",
    "                       input_shape=(img_height,img_width,3),\n",
    "                       pooling='avg',classes=num_classes,\n",
    "                       weights='imagenet')\n",
    "\n",
    "    \n",
    "\n",
    "\n",
    "    transfer_model.add(data_augmentation)\n",
    "\n",
    "    transfer_model.add(resnet50)\n",
    "    return transfer_model\n",
    "\n",
    "\n",
    "def create_classifier(encoder, trainable=True):\n",
    "    for layer in encoder.layers:\n",
    "        layer.trainable=trainable\n",
    "    encoder.add(Dropout(0.1))\n",
    "    encoder.add(Flatten())\n",
    "    encoder.add(Dense(128, activation='relu'))\n",
    "    encoder.add(Dropout(0.1))\n",
    "    encoder.add(Dense(num_classes))\n",
    "    return encoder\n",
    "\n",
    "    \n",
    "    \n"
   ]
  },
  {
   "cell_type": "code",
   "execution_count": 125,
   "id": "8857558c-585a-451a-9de5-2b84c55a3348",
   "metadata": {},
   "outputs": [],
   "source": [
    "transfer_model = tf.keras.Sequential()\n",
    "resnet50 = tf.keras.applications.ResNet50V2(include_top=False,\n",
    "                    input_shape=(img_height,img_width,3),\n",
    "                    pooling='avg',classes=num_classes,\n",
    "                    weights='imagenet')\n",
    "\n",
    "\n",
    "#transfer_model.add(data_augmentation)\n",
    "\n",
    "for layer in resnet50.layers:\n",
    "    layer.trainable = False\n",
    "\n",
    "transfer_model.add(resnet50)\n",
    "transfer_model.add(Flatten())\n",
    "transfer_model.add(tf.keras.layers.BatchNormalization())\n",
    "transfer_model.add(Dense(128, activation='relu'))\n",
    "transfer_model.add(Dropout(0.1))\n",
    "transfer_model.add(tf.keras.layers.BatchNormalization())\n",
    "transfer_model.add(Dense(num_classes))\n"
   ]
  },
  {
   "cell_type": "code",
   "execution_count": 126,
   "id": "5cb8ec11-f1bb-4d95-abdd-b7d29c454b38",
   "metadata": {},
   "outputs": [
    {
     "name": "stdout",
     "output_type": "stream",
     "text": [
      "Epoch 1/50\n",
      "225/225 [==============================] - 61s 265ms/step - loss: 2.2707 - accuracy: 0.3111 - val_loss: 1.9803 - val_accuracy: 0.4122\n",
      "Epoch 2/50\n",
      "225/225 [==============================] - 59s 261ms/step - loss: 1.7229 - accuracy: 0.4592 - val_loss: 1.7702 - val_accuracy: 0.4744\n",
      "Epoch 3/50\n",
      "225/225 [==============================] - 58s 259ms/step - loss: 1.4710 - accuracy: 0.5333 - val_loss: 1.8229 - val_accuracy: 0.4856\n",
      "Epoch 4/50\n",
      "225/225 [==============================] - 58s 257ms/step - loss: 1.3046 - accuracy: 0.5903 - val_loss: 1.8862 - val_accuracy: 0.4956\n",
      "Epoch 5/50\n",
      "225/225 [==============================] - 58s 259ms/step - loss: 1.1364 - accuracy: 0.6344 - val_loss: 2.0119 - val_accuracy: 0.4900\n",
      "Epoch 6/50\n",
      "225/225 [==============================] - 58s 257ms/step - loss: 1.0621 - accuracy: 0.6553 - val_loss: 2.0853 - val_accuracy: 0.4844\n",
      "Epoch 7/50\n",
      "225/225 [==============================] - 58s 260ms/step - loss: 0.9381 - accuracy: 0.6953 - val_loss: 2.2589 - val_accuracy: 0.4800\n",
      "Epoch 8/50\n",
      "225/225 [==============================] - 59s 261ms/step - loss: 0.8931 - accuracy: 0.7086 - val_loss: 2.2603 - val_accuracy: 0.4978\n",
      "Epoch 9/50\n",
      "225/225 [==============================] - 58s 256ms/step - loss: 0.8112 - accuracy: 0.7414 - val_loss: 2.3424 - val_accuracy: 0.4789\n",
      "Epoch 10/50\n",
      "225/225 [==============================] - 58s 259ms/step - loss: 0.7551 - accuracy: 0.7544 - val_loss: 2.4831 - val_accuracy: 0.4900\n",
      "Epoch 11/50\n",
      "225/225 [==============================] - 58s 256ms/step - loss: 0.6790 - accuracy: 0.7775 - val_loss: 2.5696 - val_accuracy: 0.4800\n",
      "Epoch 12/50\n",
      "225/225 [==============================] - 58s 258ms/step - loss: 0.6433 - accuracy: 0.7917 - val_loss: 2.6225 - val_accuracy: 0.4978\n",
      "Epoch 13/50\n",
      "225/225 [==============================] - 58s 256ms/step - loss: 0.5889 - accuracy: 0.8058 - val_loss: 2.8867 - val_accuracy: 0.4722\n",
      "Epoch 14/50\n",
      "225/225 [==============================] - 58s 258ms/step - loss: 0.5574 - accuracy: 0.8181 - val_loss: 2.9071 - val_accuracy: 0.4733\n",
      "Epoch 15/50\n",
      "225/225 [==============================] - 60s 265ms/step - loss: 0.5243 - accuracy: 0.8336 - val_loss: 3.0382 - val_accuracy: 0.4733\n",
      "Epoch 16/50\n",
      "225/225 [==============================] - 59s 262ms/step - loss: 0.4958 - accuracy: 0.8369 - val_loss: 3.0325 - val_accuracy: 0.4744\n",
      "Epoch 17/50\n",
      "225/225 [==============================] - 58s 259ms/step - loss: 0.4840 - accuracy: 0.8475 - val_loss: 3.1263 - val_accuracy: 0.4867\n",
      "Epoch 18/50\n",
      "225/225 [==============================] - 58s 260ms/step - loss: 0.4704 - accuracy: 0.8403 - val_loss: 3.2145 - val_accuracy: 0.4844\n",
      "Epoch 19/50\n",
      "225/225 [==============================] - 59s 262ms/step - loss: 0.4528 - accuracy: 0.8528 - val_loss: 3.3566 - val_accuracy: 0.4578\n",
      "Epoch 20/50\n",
      "225/225 [==============================] - 58s 260ms/step - loss: 0.4199 - accuracy: 0.8581 - val_loss: 3.4035 - val_accuracy: 0.4833\n",
      "Epoch 21/50\n",
      "225/225 [==============================] - 58s 260ms/step - loss: 0.4086 - accuracy: 0.8728 - val_loss: 3.5002 - val_accuracy: 0.4833\n",
      "Epoch 22/50\n",
      "225/225 [==============================] - 59s 260ms/step - loss: 0.4135 - accuracy: 0.8597 - val_loss: 3.4871 - val_accuracy: 0.4622\n",
      "Epoch 23/50\n",
      "225/225 [==============================] - 59s 262ms/step - loss: 0.3764 - accuracy: 0.8694 - val_loss: 3.6809 - val_accuracy: 0.4667\n",
      "Epoch 24/50\n",
      "225/225 [==============================] - 58s 259ms/step - loss: 0.3698 - accuracy: 0.8728 - val_loss: 3.7733 - val_accuracy: 0.4622\n",
      "Epoch 25/50\n",
      "225/225 [==============================] - 58s 257ms/step - loss: 0.3370 - accuracy: 0.8897 - val_loss: 3.8138 - val_accuracy: 0.4633\n",
      "Epoch 26/50\n",
      "225/225 [==============================] - 58s 260ms/step - loss: 0.3308 - accuracy: 0.8867 - val_loss: 3.7483 - val_accuracy: 0.4911\n",
      "Epoch 27/50\n",
      "225/225 [==============================] - 58s 260ms/step - loss: 0.3174 - accuracy: 0.8925 - val_loss: 3.8514 - val_accuracy: 0.4900\n",
      "Epoch 28/50\n",
      "225/225 [==============================] - 58s 259ms/step - loss: 0.3481 - accuracy: 0.8836 - val_loss: 4.0211 - val_accuracy: 0.4756\n",
      "Epoch 29/50\n",
      "225/225 [==============================] - 58s 260ms/step - loss: 0.3166 - accuracy: 0.8908 - val_loss: 3.8664 - val_accuracy: 0.4767\n",
      "Epoch 30/50\n",
      "225/225 [==============================] - 58s 260ms/step - loss: 0.3000 - accuracy: 0.8981 - val_loss: 4.1121 - val_accuracy: 0.4633\n",
      "Epoch 31/50\n",
      "225/225 [==============================] - 58s 259ms/step - loss: 0.3058 - accuracy: 0.9017 - val_loss: 4.0453 - val_accuracy: 0.4700\n",
      "Epoch 32/50\n",
      "225/225 [==============================] - 59s 263ms/step - loss: 0.2720 - accuracy: 0.9031 - val_loss: 4.0179 - val_accuracy: 0.4622\n",
      "Epoch 33/50\n",
      "225/225 [==============================] - 58s 259ms/step - loss: 0.2960 - accuracy: 0.9000 - val_loss: 4.0220 - val_accuracy: 0.4867\n",
      "Epoch 34/50\n",
      "225/225 [==============================] - 59s 263ms/step - loss: 0.2857 - accuracy: 0.9039 - val_loss: 4.3203 - val_accuracy: 0.4589\n",
      "Epoch 35/50\n",
      "225/225 [==============================] - 59s 263ms/step - loss: 0.2593 - accuracy: 0.9150 - val_loss: 4.3058 - val_accuracy: 0.4700\n",
      "Epoch 36/50\n",
      "225/225 [==============================] - 58s 258ms/step - loss: 0.2767 - accuracy: 0.9086 - val_loss: 4.3263 - val_accuracy: 0.4478\n",
      "Epoch 37/50\n",
      "225/225 [==============================] - 58s 259ms/step - loss: 0.2594 - accuracy: 0.9133 - val_loss: 4.3035 - val_accuracy: 0.4667\n",
      "Epoch 38/50\n",
      "225/225 [==============================] - 58s 260ms/step - loss: 0.2489 - accuracy: 0.9172 - val_loss: 4.4510 - val_accuracy: 0.4800\n",
      "Epoch 39/50\n",
      "225/225 [==============================] - 59s 261ms/step - loss: 0.2379 - accuracy: 0.9208 - val_loss: 4.5568 - val_accuracy: 0.4700\n",
      "Epoch 40/50\n",
      "225/225 [==============================] - 59s 262ms/step - loss: 0.2433 - accuracy: 0.9186 - val_loss: 4.4663 - val_accuracy: 0.4611\n",
      "Epoch 41/50\n",
      "225/225 [==============================] - 58s 256ms/step - loss: 0.2506 - accuracy: 0.9178 - val_loss: 4.4241 - val_accuracy: 0.4722\n",
      "Epoch 42/50\n",
      "225/225 [==============================] - 59s 262ms/step - loss: 0.2463 - accuracy: 0.9175 - val_loss: 4.6264 - val_accuracy: 0.4633\n",
      "Epoch 43/50\n",
      "225/225 [==============================] - 58s 258ms/step - loss: 0.2498 - accuracy: 0.9192 - val_loss: 4.5428 - val_accuracy: 0.4578\n",
      "Epoch 44/50\n",
      "225/225 [==============================] - 58s 258ms/step - loss: 0.2160 - accuracy: 0.9300 - val_loss: 4.6008 - val_accuracy: 0.4600\n",
      "Epoch 45/50\n",
      "225/225 [==============================] - 58s 258ms/step - loss: 0.2223 - accuracy: 0.9286 - val_loss: 4.6191 - val_accuracy: 0.4611\n",
      "Epoch 46/50\n",
      "225/225 [==============================] - 58s 256ms/step - loss: 0.2130 - accuracy: 0.9325 - val_loss: 4.7126 - val_accuracy: 0.4689\n",
      "Epoch 47/50\n",
      "225/225 [==============================] - 58s 257ms/step - loss: 0.2132 - accuracy: 0.9294 - val_loss: 4.8679 - val_accuracy: 0.4678\n",
      "Epoch 48/50\n",
      "225/225 [==============================] - 58s 256ms/step - loss: 0.2291 - accuracy: 0.9275 - val_loss: 4.9346 - val_accuracy: 0.4756\n",
      "Epoch 49/50\n",
      "225/225 [==============================] - 58s 257ms/step - loss: 0.2001 - accuracy: 0.9319 - val_loss: 5.0416 - val_accuracy: 0.4489\n",
      "Epoch 50/50\n",
      "225/225 [==============================] - 58s 256ms/step - loss: 0.2001 - accuracy: 0.9331 - val_loss: 5.0646 - val_accuracy: 0.4522\n"
     ]
    }
   ],
   "source": [
    "\n",
    "transfer_model.compile(optimizer='adam',loss=tf.keras.losses.SparseCategoricalCrossentropy(from_logits=True),metrics=['accuracy'])\n",
    "history = transfer_model.fit(train_ds, validation_data=val_ds, epochs=epochs)\n"
   ]
  },
  {
   "cell_type": "code",
   "execution_count": 127,
   "id": "6b3c654a-b234-48e0-b3d6-5a7c1d8d82dd",
   "metadata": {},
   "outputs": [
    {
     "name": "stdout",
     "output_type": "stream",
     "text": [
      "29/29 [==============================] - 6s 203ms/step - loss: 5.2612 - accuracy: 0.4946\n",
      "Test accuracy: 49.46%\n"
     ]
    },
    {
     "data": {
      "image/png": "[encoded data removed]",
      "text/plain": [
       "<Figure size 640x480 with 1 Axes>"
      ]
     },
     "metadata": {},
     "output_type": "display_data"
    },
    {
     "data": {
      "image/png": "[encoded data removed]",
      "text/plain": [
       "<Figure size 640x480 with 1 Axes>"
      ]
     },
     "metadata": {},
     "output_type": "display_data"
    }
   ],
   "source": [
    "accuracy = transfer_model.evaluate(test_ds)[1]\n",
    "print(f\"Test accuracy: {round(accuracy * 100, 2)}%\")\n",
    "# summarize history for accuracy\n",
    "plt.plot(history.history['accuracy'])\n",
    "plt.plot(history.history['val_accuracy'])\n",
    "plt.title('model accuracy')\n",
    "plt.ylabel('accuracy')\n",
    "plt.xlabel('epoch')\n",
    "plt.legend(['train', 'val'], loc='upper left')\n",
    "plt.show()\n",
    "# summarize history for loss\n",
    "plt.plot(history.history['loss'])\n",
    "plt.plot(history.history['val_loss'])\n",
    "plt.title('model loss')\n",
    "plt.ylabel('loss')\n",
    "plt.xlabel('epoch')\n",
    "plt.legend(['train', 'val'], loc='upper left')\n",
    "plt.show()"
   ]
  },
  {
   "cell_type": "code",
   "execution_count": null,
   "id": "9060c81e-ccb8-424a-b234-edf823137d2d",
   "metadata": {},
   "outputs": [],
   "source": [
    "evaluation = transfer_model.evaluate(test_ds)"
   ]
  },
  {
   "cell_type": "code",
   "execution_count": null,
   "id": "ccf6720e-824b-4ed8-9e51-ef348c06f4fb",
   "metadata": {},
   "outputs": [],
   "source": [
    "labels = [\"Blazer\", 'Dress', 'Hat', 'Hoodie', 'Longsleeve', 'Outwear', 'Pants', 'Polo', 'Shirt', 'Shoes', 'Shorts', 'Skirt', 'T-Shirt', 'Undershirt']\n",
    "len(labels)"
   ]
  },
  {
   "cell_type": "code",
   "execution_count": null,
   "id": "6ad393f7-782c-4c12-b788-28304841286e",
   "metadata": {},
   "outputs": [],
   "source": [
    "pred_labels = np.argmax(predictions, axis=1)\n",
    "pred_classes = np.array(labels)[pred_labels]\n"
   ]
  },
  {
   "cell_type": "code",
   "execution_count": null,
   "id": "60a1de4e-ff9b-45ee-81d5-e15e009433a5",
   "metadata": {},
   "outputs": [],
   "source": []
  },
  {
   "cell_type": "code",
   "execution_count": null,
   "id": "eb7f7698-c95a-4556-b082-23c7458debbc",
   "metadata": {},
   "outputs": [],
   "source": []
  },
  {
   "cell_type": "code",
   "execution_count": null,
   "id": "164065db-11a8-4692-8b13-5e19e28fbf57",
   "metadata": {},
   "outputs": [],
   "source": []
  },
  {
   "cell_type": "code",
   "execution_count": null,
   "id": "f5060b7e-f403-46ce-9340-6c6eb35b7abc",
   "metadata": {},
   "outputs": [],
   "source": [
    "class SupervisedContrastiveLoss(keras.losses.Loss):\n",
    "    def __init__(self, temperature=1, name=None):\n",
    "        super(SupervisedContrastiveLoss, self).__init__(name=name)\n",
    "        self.temperature = temperature\n",
    "\n",
    "    def __call__(self, labels, feature_vectors, sample_weight=None):\n",
    "        # Normalize feature vectors\n",
    "        feature_vectors_normalized = tf.math.l2_normalize(feature_vectors, axis=1)\n",
    "        # Compute logits\n",
    "        logits = tf.divide(\n",
    "            tf.matmul(\n",
    "                feature_vectors_normalized, tf.transpose(feature_vectors_normalized)\n",
    "            ),\n",
    "            self.temperature,\n",
    "        )\n",
    "        return tfa.losses.npairs_loss(tf.squeeze(labels), logits)\n",
    "\n",
    "\n",
    "def add_projection_head(encoder):\n",
    "    inputs = keras.Input(shape=input_shape)\n",
    "    features = encoder(inputs)\n",
    "    outputs = layers.Dense(projection_units, activation=\"relu\")(features)\n",
    "    model = keras.Model(\n",
    "        inputs=inputs, outputs=outputs, name=\"cifar-encoder_with_projection-head\"\n",
    "    )\n",
    "    return model"
   ]
  },
  {
   "cell_type": "code",
   "execution_count": null,
   "id": "f7a818ea-2b40-4e58-93af-3f71d8ed1fc2",
   "metadata": {},
   "outputs": [],
   "source": [
    "learning_rate = 0.01\n",
    "temperature = 0.05\n",
    "projection_units = 128"
   ]
  },
  {
   "cell_type": "code",
   "execution_count": null,
   "id": "53ec9530-73cb-42ea-8362-3f6c681dcb14",
   "metadata": {},
   "outputs": [],
   "source": [
    "encoder = create_encoder()\n",
    "\n",
    "encoder_with_projection_head = add_projection_head(encoder)\n",
    "encoder_with_projection_head.compile(\n",
    "    optimizer=keras.optimizers.Adam(learning_rate),\n",
    "    loss=SupervisedContrastiveLoss(temperature),\n",
    ")\n",
    "\n",
    "encoder_with_projection_head.summary()\n",
    "\n",
    "epochs = 15\n",
    "\n",
    "history = encoder_with_projection_head.fit(\n",
    "    train_ds, validation_data=val_ds, batch_size=batch_size, epochs=epochs\n",
    ")\n",
    "\n",
    "classifier = create_classifier(encoder, trainable=False)\n",
    "\n",
    "classifier.compile(\n",
    "        optimizer=keras.optimizers.Adam(learning_rate),\n",
    "        loss=keras.losses.SparseCategoricalCrossentropy(),\n",
    "        metrics=[keras.metrics.SparseCategoricalAccuracy()],\n",
    "    )\n",
    "\n",
    "epochs = 15\n",
    "\n",
    "history = classifier.fit(train_ds, validation_data=val_ds, batch_size=batch_size, epochs=epochs)\n",
    "\n"
   ]
  },
  {
   "cell_type": "code",
   "execution_count": null,
   "id": "dac43a4e-1e5a-4a4e-87e2-a3eceec81a3f",
   "metadata": {},
   "outputs": [],
   "source": [
    "predictor = tf.keras.Sequential([classifier, tf.keras.layers.Softmax()])\n",
    "\n",
    "predictor.compile(\n",
    "  optimizer='adam',\n",
    "  loss=tf.keras.losses.SparseCategoricalCrossentropy(from_logits=False),\n",
    "  metrics=['accuracy'])\n",
    "\n",
    "accuracy = classifier.evaluate(test_ds)[1]\n",
    "print(f\"Test accuracy: {round(accuracy * 100, 2)}%\")"
   ]
  },
  {
   "cell_type": "code",
   "execution_count": null,
   "id": "01d80ac5-53c5-4add-8bcf-f990db00c5db",
   "metadata": {},
   "outputs": [],
   "source": []
  },
  {
   "cell_type": "code",
   "execution_count": null,
   "id": "cfd021f8-e64d-4d26-8d11-c0b5ad7338d5",
   "metadata": {},
   "outputs": [],
   "source": []
  },
  {
   "cell_type": "code",
   "execution_count": null,
   "id": "301a2c4c-1a58-4e8c-8746-95bbb890f17b",
   "metadata": {},
   "outputs": [],
   "source": [
    "Algorithm = SimCLR\n",
    "\n",
    "width = 128\n",
    "num_epochs = 10\n",
    "\n",
    "hyperparams = {SimCLR: {\"temperature\": 0.1}}\n",
    "\n",
    "# architecture\n",
    "model = Algorithm(\n",
    "    contrastive_augmenter=keras.Sequential(\n",
    "        [\n",
    "            layers.Input(shape=(img_width, img_height, 3)),\n",
    "            preprocessing.Rescaling(1 / 255),\n",
    "            preprocessing.RandomFlip(\"horizontal\"),\n",
    "            \n",
    "        ],\n",
    "        name=\"contrastive_augmenter\",\n",
    "    ),\n",
    "    classification_augmenter=keras.Sequential(\n",
    "        [\n",
    "            layers.Input(shape=(img_width, img_height, 3)),\n",
    "            preprocessing.Rescaling(1 / 255),\n",
    "            preprocessing.RandomFlip(\"horizontal\"),\n",
    "            \n",
    "        ],\n",
    "        name=\"classification_augmenter\",\n",
    "    ),\n",
    "    encoder=keras.Sequential(\n",
    "        [\n",
    "            layers.Input(shape=(img_width, img_height, 3)),\n",
    "            layers.Conv2D(width, kernel_size=3, strides=2, activation=\"relu\"),\n",
    "            layers.Conv2D(width, kernel_size=3, strides=2, activation=\"relu\"),\n",
    "            layers.Conv2D(width, kernel_size=3, strides=2, activation=\"relu\"),\n",
    "            layers.Conv2D(width, kernel_size=3, strides=2, activation=\"relu\"),\n",
    "            layers.Flatten(),\n",
    "            layers.Dense(width, activation=\"relu\"),\n",
    "        ],\n",
    "        name=\"encoder\",\n",
    "    ),\n",
    "    projection_head=keras.Sequential(\n",
    "        [\n",
    "            layers.Input(shape=(width,)),\n",
    "            layers.Dense(width, activation=\"relu\"),\n",
    "            layers.Dense(width),\n",
    "        ],\n",
    "        name=\"projection_head\",\n",
    "    ),\n",
    "    linear_probe=keras.Sequential(\n",
    "        [\n",
    "            layers.Input(shape=(width,)),\n",
    "            layers.Dense(num_classes),\n",
    "        ],\n",
    "        name=\"linear_probe\",\n",
    "    ),\n",
    "    **hyperparams[Algorithm],\n",
    ")"
   ]
  },
  {
   "cell_type": "code",
   "execution_count": null,
   "id": "2a6288bb-ff65-41cc-9b30-4999ae7eadd9",
   "metadata": {},
   "outputs": [],
   "source": [
    "model.compile(\n",
    "    contrastive_optimizer=keras.optimizers.Adam(),\n",
    "    probe_optimizer=keras.optimizers.Adam(),\n",
    ")\n",
    "\n",
    "# run training\n",
    "\n",
    "np_train_ds = tfds.as_numpy(train_ds)\n",
    "np_val_ds = tfds.as_numpy(val_ds)\n",
    "\n",
    "\n",
    "    \n",
    "history = model.fit(np_train_ds, epochs=num_epochs, validation_data=np_val_ds)"
   ]
  },
  {
   "cell_type": "code",
   "execution_count": null,
   "id": "fce9e9c3-f3a9-449c-9c59-54320336a668",
   "metadata": {},
   "outputs": [],
   "source": []
  },
  {
   "cell_type": "code",
   "execution_count": null,
   "id": "6a52e7dc-7d0f-4812-b15e-0837492ee73c",
   "metadata": {},
   "outputs": [],
   "source": []
  },
  {
   "cell_type": "code",
   "execution_count": null,
   "id": "0db86c2a-e705-4313-954f-360f7ffcac4b",
   "metadata": {},
   "outputs": [],
   "source": []
  },
  {
   "cell_type": "code",
   "execution_count": 128,
   "id": "1c8685b6-792c-45ce-8824-f7dc7e6cd8b7",
   "metadata": {},
   "outputs": [],
   "source": [
    "import tensorflow as tf\n",
    "import tensorflow_addons as tfa\n",
    "import numpy as np\n",
    "from tensorflow import keras\n",
    "from tensorflow.keras import layers"
   ]
  },
  {
   "cell_type": "code",
   "execution_count": 130,
   "id": "23be87d6-95f9-4fd4-892d-90fcfae8fcb5",
   "metadata": {},
   "outputs": [
    {
     "name": "stdout",
     "output_type": "stream",
     "text": [
      "Found 4500 files belonging to 14 classes.\n",
      "Using 3600 files for training.\n",
      "Found 4500 files belonging to 14 classes.\n",
      "Using 900 files for validation.\n"
     ]
    }
   ],
   "source": [
    "num_classes = 14\n",
    "input_shape = (128, 128, 3)\n",
    "import random\n",
    "seed = random.randint(1, 10000)\n",
    "train_ds = tf.keras.utils.image_dataset_from_directory(\n",
    "  train_dir,\n",
    "  validation_split=0.2,\n",
    "  subset=\"training\",\n",
    "  seed=seed,\n",
    "  image_size=(img_height, img_width),\n",
    "  batch_size=batch_size,\n",
    ")\n",
    "\n",
    "val_ds = tf.keras.utils.image_dataset_from_directory(\n",
    "  train_dir,\n",
    "  validation_split=0.2,\n",
    "  subset=\"validation\",\n",
    "  seed=seed,\n",
    "  image_size=(img_height, img_width),\n",
    "  batch_size=batch_size)"
   ]
  },
  {
   "cell_type": "code",
   "execution_count": 131,
   "id": "0f38a108-d19d-4001-87d8-0cb243f3da22",
   "metadata": {},
   "outputs": [
    {
     "name": "stdout",
     "output_type": "stream",
     "text": [
      "Model: \"cifar10-encoder\"\n",
      "_________________________________________________________________\n",
      " Layer (type)                Output Shape              Param #   \n",
      "=================================================================\n",
      " input_41 (InputLayer)       [(None, 128, 128, 3)]     0         \n",
      "                                                                 \n",
      " resnet50v2 (Functional)     (None, 2048)              23564800  \n",
      "                                                                 \n",
      "=================================================================\n",
      "Total params: 23,564,800\n",
      "Trainable params: 23,519,360\n",
      "Non-trainable params: 45,440\n",
      "_________________________________________________________________\n"
     ]
    }
   ],
   "source": [
    "def create_encoder():\n",
    "    resnet = keras.applications.ResNet50V2(\n",
    "        include_top=False, weights=None, input_shape=input_shape, pooling=\"avg\"\n",
    "    )\n",
    "\n",
    "    inputs = keras.Input(shape=input_shape)\n",
    "    outputs = resnet(inputs)\n",
    "    model = keras.Model(inputs=inputs, outputs=outputs, name=\"cifar10-encoder\")\n",
    "    return model\n",
    "\n",
    "\n",
    "encoder = create_encoder()\n",
    "encoder.summary()\n",
    "\n",
    "learning_rate = 0.001\n",
    "batch_size = 265\n",
    "hidden_units = 512\n",
    "projection_units = 128\n",
    "num_epochs = 50\n",
    "dropout_rate = 0.5\n",
    "temperature = 0.05"
   ]
  },
  {
   "cell_type": "code",
   "execution_count": 132,
   "id": "a1e7f717-aa9a-4c60-ba6c-1c54ee0848f6",
   "metadata": {},
   "outputs": [],
   "source": [
    "def create_classifier(encoder, trainable=True):\n",
    "\n",
    "    for layer in encoder.layers:\n",
    "        layer.trainable = trainable\n",
    "\n",
    "    inputs = keras.Input(shape=input_shape)\n",
    "    features = encoder(inputs)\n",
    "    features = layers.Dropout(dropout_rate)(features)\n",
    "    features = layers.Dense(hidden_units, activation=\"relu\")(features)\n",
    "    features = layers.Dropout(dropout_rate)(features)\n",
    "    outputs = layers.Dense(num_classes, activation=\"softmax\")(features)\n",
    "\n",
    "    model = keras.Model(inputs=inputs, outputs=outputs, name=\"cifar10-classifier\")\n",
    "    model.compile(\n",
    "        optimizer=keras.optimizers.Adam(learning_rate),\n",
    "        loss=keras.losses.SparseCategoricalCrossentropy(),\n",
    "        metrics=[keras.metrics.SparseCategoricalAccuracy()],\n",
    "    )\n",
    "    return model"
   ]
  },
  {
   "cell_type": "code",
   "execution_count": 133,
   "id": "5edcb795-bb78-4791-9a4b-0f44995662d2",
   "metadata": {},
   "outputs": [],
   "source": [
    "class SupervisedContrastiveLoss(keras.losses.Loss):\n",
    "    def __init__(self, temperature=1, name=None):\n",
    "        super(SupervisedContrastiveLoss, self).__init__(name=name)\n",
    "        self.temperature = temperature\n",
    "\n",
    "    def __call__(self, labels, feature_vectors, sample_weight=None):\n",
    "        # Normalize feature vectors\n",
    "        feature_vectors_normalized = tf.math.l2_normalize(feature_vectors, axis=1)\n",
    "        # Compute logits\n",
    "        logits = tf.divide(\n",
    "            tf.matmul(\n",
    "                feature_vectors_normalized, tf.transpose(feature_vectors_normalized)\n",
    "            ),\n",
    "            self.temperature,\n",
    "        )\n",
    "        return tfa.losses.npairs_loss(tf.squeeze(labels), logits)\n",
    "\n",
    "\n",
    "def add_projection_head(encoder):\n",
    "    inputs = keras.Input(shape=input_shape)\n",
    "    features = encoder(inputs)\n",
    "    outputs = layers.Dense(projection_units, activation=\"relu\")(features)\n",
    "    model = keras.Model(\n",
    "        inputs=inputs, outputs=outputs, name=\"cifar-encoder_with_projection-head\"\n",
    "    )\n",
    "    return model"
   ]
  },
  {
   "cell_type": "code",
   "execution_count": 135,
   "id": "5f25c9db-0db4-4c44-a4b3-67f745f60585",
   "metadata": {},
   "outputs": [
    {
     "name": "stdout",
     "output_type": "stream",
     "text": [
      "Model: \"cifar-encoder_with_projection-head\"\n",
      "_________________________________________________________________\n",
      " Layer (type)                Output Shape              Param #   \n",
      "=================================================================\n",
      " input_47 (InputLayer)       [(None, 128, 128, 3)]     0         \n",
      "                                                                 \n",
      " cifar10-encoder (Functional  (None, 2048)             23564800  \n",
      " )                                                               \n",
      "                                                                 \n",
      " dense_50 (Dense)            (None, 128)               262272    \n",
      "                                                                 \n",
      "=================================================================\n",
      "Total params: 23,827,072\n",
      "Trainable params: 23,781,632\n",
      "Non-trainable params: 45,440\n",
      "_________________________________________________________________\n",
      "Epoch 1/50\n",
      "225/225 [==============================] - 190s 831ms/step - loss: 2.3267\n",
      "Epoch 2/50\n",
      " 57/225 [======>.......................] - ETA: 2:20 - loss: 2.1956"
     ]
    },
    {
     "ename": "KeyboardInterrupt",
     "evalue": "",
     "output_type": "error",
     "traceback": [
      "\u001b[0;31m---------------------------------------------------------------------------\u001b[0m",
      "\u001b[0;31mKeyboardInterrupt\u001b[0m                         Traceback (most recent call last)",
      "Cell \u001b[0;32mIn [135], line 11\u001b[0m\n\u001b[1;32m      4\u001b[0m encoder_with_projection_head\u001b[38;5;241m.\u001b[39mcompile(\n\u001b[1;32m      5\u001b[0m     optimizer\u001b[38;5;241m=\u001b[39mkeras\u001b[38;5;241m.\u001b[39moptimizers\u001b[38;5;241m.\u001b[39mAdam(learning_rate),\n\u001b[1;32m      6\u001b[0m     loss\u001b[38;5;241m=\u001b[39mSupervisedContrastiveLoss(temperature),\n\u001b[1;32m      7\u001b[0m )\n\u001b[1;32m      9\u001b[0m encoder_with_projection_head\u001b[38;5;241m.\u001b[39msummary()\n\u001b[0;32m---> 11\u001b[0m history \u001b[38;5;241m=\u001b[39m \u001b[43mencoder_with_projection_head\u001b[49m\u001b[38;5;241;43m.\u001b[39;49m\u001b[43mfit\u001b[49m\u001b[43m(\u001b[49m\n\u001b[1;32m     12\u001b[0m \u001b[43m    \u001b[49m\u001b[43mtrain_ds\u001b[49m\u001b[43m,\u001b[49m\u001b[43m \u001b[49m\u001b[43mbatch_size\u001b[49m\u001b[38;5;241;43m=\u001b[39;49m\u001b[43mbatch_size\u001b[49m\u001b[43m,\u001b[49m\u001b[43m \u001b[49m\u001b[43mepochs\u001b[49m\u001b[38;5;241;43m=\u001b[39;49m\u001b[43mnum_epochs\u001b[49m\n\u001b[1;32m     13\u001b[0m \u001b[43m)\u001b[49m\n",
      "File \u001b[0;32m~/opt/anaconda3/envs/tensorflow/lib/python3.8/site-packages/keras/utils/traceback_utils.py:65\u001b[0m, in \u001b[0;36mfilter_traceback.<locals>.error_handler\u001b[0;34m(*args, **kwargs)\u001b[0m\n\u001b[1;32m     63\u001b[0m filtered_tb \u001b[38;5;241m=\u001b[39m \u001b[38;5;28;01mNone\u001b[39;00m\n\u001b[1;32m     64\u001b[0m \u001b[38;5;28;01mtry\u001b[39;00m:\n\u001b[0;32m---> 65\u001b[0m     \u001b[38;5;28;01mreturn\u001b[39;00m \u001b[43mfn\u001b[49m\u001b[43m(\u001b[49m\u001b[38;5;241;43m*\u001b[39;49m\u001b[43margs\u001b[49m\u001b[43m,\u001b[49m\u001b[43m \u001b[49m\u001b[38;5;241;43m*\u001b[39;49m\u001b[38;5;241;43m*\u001b[39;49m\u001b[43mkwargs\u001b[49m\u001b[43m)\u001b[49m\n\u001b[1;32m     66\u001b[0m \u001b[38;5;28;01mexcept\u001b[39;00m \u001b[38;5;167;01mException\u001b[39;00m \u001b[38;5;28;01mas\u001b[39;00m e:\n\u001b[1;32m     67\u001b[0m     filtered_tb \u001b[38;5;241m=\u001b[39m _process_traceback_frames(e\u001b[38;5;241m.\u001b[39m__traceback__)\n",
      "File \u001b[0;32m~/opt/anaconda3/envs/tensorflow/lib/python3.8/site-packages/keras/engine/training.py:1564\u001b[0m, in \u001b[0;36mModel.fit\u001b[0;34m(self, x, y, batch_size, epochs, verbose, callbacks, validation_split, validation_data, shuffle, class_weight, sample_weight, initial_epoch, steps_per_epoch, validation_steps, validation_batch_size, validation_freq, max_queue_size, workers, use_multiprocessing)\u001b[0m\n\u001b[1;32m   1556\u001b[0m \u001b[38;5;28;01mwith\u001b[39;00m tf\u001b[38;5;241m.\u001b[39mprofiler\u001b[38;5;241m.\u001b[39mexperimental\u001b[38;5;241m.\u001b[39mTrace(\n\u001b[1;32m   1557\u001b[0m     \u001b[38;5;124m\"\u001b[39m\u001b[38;5;124mtrain\u001b[39m\u001b[38;5;124m\"\u001b[39m,\n\u001b[1;32m   1558\u001b[0m     epoch_num\u001b[38;5;241m=\u001b[39mepoch,\n\u001b[0;32m   (...)\u001b[0m\n\u001b[1;32m   1561\u001b[0m     _r\u001b[38;5;241m=\u001b[39m\u001b[38;5;241m1\u001b[39m,\n\u001b[1;32m   1562\u001b[0m ):\n\u001b[1;32m   1563\u001b[0m     callbacks\u001b[38;5;241m.\u001b[39mon_train_batch_begin(step)\n\u001b[0;32m-> 1564\u001b[0m     tmp_logs \u001b[38;5;241m=\u001b[39m \u001b[38;5;28;43mself\u001b[39;49m\u001b[38;5;241;43m.\u001b[39;49m\u001b[43mtrain_function\u001b[49m\u001b[43m(\u001b[49m\u001b[43miterator\u001b[49m\u001b[43m)\u001b[49m\n\u001b[1;32m   1565\u001b[0m     \u001b[38;5;28;01mif\u001b[39;00m data_handler\u001b[38;5;241m.\u001b[39mshould_sync:\n\u001b[1;32m   1566\u001b[0m         context\u001b[38;5;241m.\u001b[39masync_wait()\n",
      "File \u001b[0;32m~/opt/anaconda3/envs/tensorflow/lib/python3.8/site-packages/tensorflow/python/util/traceback_utils.py:150\u001b[0m, in \u001b[0;36mfilter_traceback.<locals>.error_handler\u001b[0;34m(*args, **kwargs)\u001b[0m\n\u001b[1;32m    148\u001b[0m filtered_tb \u001b[38;5;241m=\u001b[39m \u001b[38;5;28;01mNone\u001b[39;00m\n\u001b[1;32m    149\u001b[0m \u001b[38;5;28;01mtry\u001b[39;00m:\n\u001b[0;32m--> 150\u001b[0m   \u001b[38;5;28;01mreturn\u001b[39;00m \u001b[43mfn\u001b[49m\u001b[43m(\u001b[49m\u001b[38;5;241;43m*\u001b[39;49m\u001b[43margs\u001b[49m\u001b[43m,\u001b[49m\u001b[43m \u001b[49m\u001b[38;5;241;43m*\u001b[39;49m\u001b[38;5;241;43m*\u001b[39;49m\u001b[43mkwargs\u001b[49m\u001b[43m)\u001b[49m\n\u001b[1;32m    151\u001b[0m \u001b[38;5;28;01mexcept\u001b[39;00m \u001b[38;5;167;01mException\u001b[39;00m \u001b[38;5;28;01mas\u001b[39;00m e:\n\u001b[1;32m    152\u001b[0m   filtered_tb \u001b[38;5;241m=\u001b[39m _process_traceback_frames(e\u001b[38;5;241m.\u001b[39m__traceback__)\n",
      "File \u001b[0;32m~/opt/anaconda3/envs/tensorflow/lib/python3.8/site-packages/tensorflow/python/eager/def_function.py:915\u001b[0m, in \u001b[0;36mFunction.__call__\u001b[0;34m(self, *args, **kwds)\u001b[0m\n\u001b[1;32m    912\u001b[0m compiler \u001b[38;5;241m=\u001b[39m \u001b[38;5;124m\"\u001b[39m\u001b[38;5;124mxla\u001b[39m\u001b[38;5;124m\"\u001b[39m \u001b[38;5;28;01mif\u001b[39;00m \u001b[38;5;28mself\u001b[39m\u001b[38;5;241m.\u001b[39m_jit_compile \u001b[38;5;28;01melse\u001b[39;00m \u001b[38;5;124m\"\u001b[39m\u001b[38;5;124mnonXla\u001b[39m\u001b[38;5;124m\"\u001b[39m\n\u001b[1;32m    914\u001b[0m \u001b[38;5;28;01mwith\u001b[39;00m OptionalXlaContext(\u001b[38;5;28mself\u001b[39m\u001b[38;5;241m.\u001b[39m_jit_compile):\n\u001b[0;32m--> 915\u001b[0m   result \u001b[38;5;241m=\u001b[39m \u001b[38;5;28;43mself\u001b[39;49m\u001b[38;5;241;43m.\u001b[39;49m\u001b[43m_call\u001b[49m\u001b[43m(\u001b[49m\u001b[38;5;241;43m*\u001b[39;49m\u001b[43margs\u001b[49m\u001b[43m,\u001b[49m\u001b[43m \u001b[49m\u001b[38;5;241;43m*\u001b[39;49m\u001b[38;5;241;43m*\u001b[39;49m\u001b[43mkwds\u001b[49m\u001b[43m)\u001b[49m\n\u001b[1;32m    917\u001b[0m new_tracing_count \u001b[38;5;241m=\u001b[39m \u001b[38;5;28mself\u001b[39m\u001b[38;5;241m.\u001b[39mexperimental_get_tracing_count()\n\u001b[1;32m    918\u001b[0m without_tracing \u001b[38;5;241m=\u001b[39m (tracing_count \u001b[38;5;241m==\u001b[39m new_tracing_count)\n",
      "File \u001b[0;32m~/opt/anaconda3/envs/tensorflow/lib/python3.8/site-packages/tensorflow/python/eager/def_function.py:947\u001b[0m, in \u001b[0;36mFunction._call\u001b[0;34m(self, *args, **kwds)\u001b[0m\n\u001b[1;32m    944\u001b[0m   \u001b[38;5;28mself\u001b[39m\u001b[38;5;241m.\u001b[39m_lock\u001b[38;5;241m.\u001b[39mrelease()\n\u001b[1;32m    945\u001b[0m   \u001b[38;5;66;03m# In this case we have created variables on the first call, so we run the\u001b[39;00m\n\u001b[1;32m    946\u001b[0m   \u001b[38;5;66;03m# defunned version which is guaranteed to never create variables.\u001b[39;00m\n\u001b[0;32m--> 947\u001b[0m   \u001b[38;5;28;01mreturn\u001b[39;00m \u001b[38;5;28;43mself\u001b[39;49m\u001b[38;5;241;43m.\u001b[39;49m\u001b[43m_stateless_fn\u001b[49m\u001b[43m(\u001b[49m\u001b[38;5;241;43m*\u001b[39;49m\u001b[43margs\u001b[49m\u001b[43m,\u001b[49m\u001b[43m \u001b[49m\u001b[38;5;241;43m*\u001b[39;49m\u001b[38;5;241;43m*\u001b[39;49m\u001b[43mkwds\u001b[49m\u001b[43m)\u001b[49m  \u001b[38;5;66;03m# pylint: disable=not-callable\u001b[39;00m\n\u001b[1;32m    948\u001b[0m \u001b[38;5;28;01melif\u001b[39;00m \u001b[38;5;28mself\u001b[39m\u001b[38;5;241m.\u001b[39m_stateful_fn \u001b[38;5;129;01mis\u001b[39;00m \u001b[38;5;129;01mnot\u001b[39;00m \u001b[38;5;28;01mNone\u001b[39;00m:\n\u001b[1;32m    949\u001b[0m   \u001b[38;5;66;03m# Release the lock early so that multiple threads can perform the call\u001b[39;00m\n\u001b[1;32m    950\u001b[0m   \u001b[38;5;66;03m# in parallel.\u001b[39;00m\n\u001b[1;32m    951\u001b[0m   \u001b[38;5;28mself\u001b[39m\u001b[38;5;241m.\u001b[39m_lock\u001b[38;5;241m.\u001b[39mrelease()\n",
      "File \u001b[0;32m~/opt/anaconda3/envs/tensorflow/lib/python3.8/site-packages/tensorflow/python/eager/function.py:2496\u001b[0m, in \u001b[0;36mFunction.__call__\u001b[0;34m(self, *args, **kwargs)\u001b[0m\n\u001b[1;32m   2493\u001b[0m \u001b[38;5;28;01mwith\u001b[39;00m \u001b[38;5;28mself\u001b[39m\u001b[38;5;241m.\u001b[39m_lock:\n\u001b[1;32m   2494\u001b[0m   (graph_function,\n\u001b[1;32m   2495\u001b[0m    filtered_flat_args) \u001b[38;5;241m=\u001b[39m \u001b[38;5;28mself\u001b[39m\u001b[38;5;241m.\u001b[39m_maybe_define_function(args, kwargs)\n\u001b[0;32m-> 2496\u001b[0m \u001b[38;5;28;01mreturn\u001b[39;00m \u001b[43mgraph_function\u001b[49m\u001b[38;5;241;43m.\u001b[39;49m\u001b[43m_call_flat\u001b[49m\u001b[43m(\u001b[49m\n\u001b[1;32m   2497\u001b[0m \u001b[43m    \u001b[49m\u001b[43mfiltered_flat_args\u001b[49m\u001b[43m,\u001b[49m\u001b[43m \u001b[49m\u001b[43mcaptured_inputs\u001b[49m\u001b[38;5;241;43m=\u001b[39;49m\u001b[43mgraph_function\u001b[49m\u001b[38;5;241;43m.\u001b[39;49m\u001b[43mcaptured_inputs\u001b[49m\u001b[43m)\u001b[49m\n",
      "File \u001b[0;32m~/opt/anaconda3/envs/tensorflow/lib/python3.8/site-packages/tensorflow/python/eager/function.py:1862\u001b[0m, in \u001b[0;36mConcreteFunction._call_flat\u001b[0;34m(self, args, captured_inputs, cancellation_manager)\u001b[0m\n\u001b[1;32m   1858\u001b[0m possible_gradient_type \u001b[38;5;241m=\u001b[39m gradients_util\u001b[38;5;241m.\u001b[39mPossibleTapeGradientTypes(args)\n\u001b[1;32m   1859\u001b[0m \u001b[38;5;28;01mif\u001b[39;00m (possible_gradient_type \u001b[38;5;241m==\u001b[39m gradients_util\u001b[38;5;241m.\u001b[39mPOSSIBLE_GRADIENT_TYPES_NONE\n\u001b[1;32m   1860\u001b[0m     \u001b[38;5;129;01mand\u001b[39;00m executing_eagerly):\n\u001b[1;32m   1861\u001b[0m   \u001b[38;5;66;03m# No tape is watching; skip to running the function.\u001b[39;00m\n\u001b[0;32m-> 1862\u001b[0m   \u001b[38;5;28;01mreturn\u001b[39;00m \u001b[38;5;28mself\u001b[39m\u001b[38;5;241m.\u001b[39m_build_call_outputs(\u001b[38;5;28;43mself\u001b[39;49m\u001b[38;5;241;43m.\u001b[39;49m\u001b[43m_inference_function\u001b[49m\u001b[38;5;241;43m.\u001b[39;49m\u001b[43mcall\u001b[49m\u001b[43m(\u001b[49m\n\u001b[1;32m   1863\u001b[0m \u001b[43m      \u001b[49m\u001b[43mctx\u001b[49m\u001b[43m,\u001b[49m\u001b[43m \u001b[49m\u001b[43margs\u001b[49m\u001b[43m,\u001b[49m\u001b[43m \u001b[49m\u001b[43mcancellation_manager\u001b[49m\u001b[38;5;241;43m=\u001b[39;49m\u001b[43mcancellation_manager\u001b[49m\u001b[43m)\u001b[49m)\n\u001b[1;32m   1864\u001b[0m forward_backward \u001b[38;5;241m=\u001b[39m \u001b[38;5;28mself\u001b[39m\u001b[38;5;241m.\u001b[39m_select_forward_and_backward_functions(\n\u001b[1;32m   1865\u001b[0m     args,\n\u001b[1;32m   1866\u001b[0m     possible_gradient_type,\n\u001b[1;32m   1867\u001b[0m     executing_eagerly)\n\u001b[1;32m   1868\u001b[0m forward_function, args_with_tangents \u001b[38;5;241m=\u001b[39m forward_backward\u001b[38;5;241m.\u001b[39mforward()\n",
      "File \u001b[0;32m~/opt/anaconda3/envs/tensorflow/lib/python3.8/site-packages/tensorflow/python/eager/function.py:499\u001b[0m, in \u001b[0;36m_EagerDefinedFunction.call\u001b[0;34m(self, ctx, args, cancellation_manager)\u001b[0m\n\u001b[1;32m    497\u001b[0m \u001b[38;5;28;01mwith\u001b[39;00m _InterpolateFunctionError(\u001b[38;5;28mself\u001b[39m):\n\u001b[1;32m    498\u001b[0m   \u001b[38;5;28;01mif\u001b[39;00m cancellation_manager \u001b[38;5;129;01mis\u001b[39;00m \u001b[38;5;28;01mNone\u001b[39;00m:\n\u001b[0;32m--> 499\u001b[0m     outputs \u001b[38;5;241m=\u001b[39m \u001b[43mexecute\u001b[49m\u001b[38;5;241;43m.\u001b[39;49m\u001b[43mexecute\u001b[49m\u001b[43m(\u001b[49m\n\u001b[1;32m    500\u001b[0m \u001b[43m        \u001b[49m\u001b[38;5;28;43mstr\u001b[39;49m\u001b[43m(\u001b[49m\u001b[38;5;28;43mself\u001b[39;49m\u001b[38;5;241;43m.\u001b[39;49m\u001b[43msignature\u001b[49m\u001b[38;5;241;43m.\u001b[39;49m\u001b[43mname\u001b[49m\u001b[43m)\u001b[49m\u001b[43m,\u001b[49m\n\u001b[1;32m    501\u001b[0m \u001b[43m        \u001b[49m\u001b[43mnum_outputs\u001b[49m\u001b[38;5;241;43m=\u001b[39;49m\u001b[38;5;28;43mself\u001b[39;49m\u001b[38;5;241;43m.\u001b[39;49m\u001b[43m_num_outputs\u001b[49m\u001b[43m,\u001b[49m\n\u001b[1;32m    502\u001b[0m \u001b[43m        \u001b[49m\u001b[43minputs\u001b[49m\u001b[38;5;241;43m=\u001b[39;49m\u001b[43margs\u001b[49m\u001b[43m,\u001b[49m\n\u001b[1;32m    503\u001b[0m \u001b[43m        \u001b[49m\u001b[43mattrs\u001b[49m\u001b[38;5;241;43m=\u001b[39;49m\u001b[43mattrs\u001b[49m\u001b[43m,\u001b[49m\n\u001b[1;32m    504\u001b[0m \u001b[43m        \u001b[49m\u001b[43mctx\u001b[49m\u001b[38;5;241;43m=\u001b[39;49m\u001b[43mctx\u001b[49m\u001b[43m)\u001b[49m\n\u001b[1;32m    505\u001b[0m   \u001b[38;5;28;01melse\u001b[39;00m:\n\u001b[1;32m    506\u001b[0m     outputs \u001b[38;5;241m=\u001b[39m execute\u001b[38;5;241m.\u001b[39mexecute_with_cancellation(\n\u001b[1;32m    507\u001b[0m         \u001b[38;5;28mstr\u001b[39m(\u001b[38;5;28mself\u001b[39m\u001b[38;5;241m.\u001b[39msignature\u001b[38;5;241m.\u001b[39mname),\n\u001b[1;32m    508\u001b[0m         num_outputs\u001b[38;5;241m=\u001b[39m\u001b[38;5;28mself\u001b[39m\u001b[38;5;241m.\u001b[39m_num_outputs,\n\u001b[0;32m   (...)\u001b[0m\n\u001b[1;32m    511\u001b[0m         ctx\u001b[38;5;241m=\u001b[39mctx,\n\u001b[1;32m    512\u001b[0m         cancellation_manager\u001b[38;5;241m=\u001b[39mcancellation_manager)\n",
      "File \u001b[0;32m~/opt/anaconda3/envs/tensorflow/lib/python3.8/site-packages/tensorflow/python/eager/execute.py:54\u001b[0m, in \u001b[0;36mquick_execute\u001b[0;34m(op_name, num_outputs, inputs, attrs, ctx, name)\u001b[0m\n\u001b[1;32m     52\u001b[0m \u001b[38;5;28;01mtry\u001b[39;00m:\n\u001b[1;32m     53\u001b[0m   ctx\u001b[38;5;241m.\u001b[39mensure_initialized()\n\u001b[0;32m---> 54\u001b[0m   tensors \u001b[38;5;241m=\u001b[39m \u001b[43mpywrap_tfe\u001b[49m\u001b[38;5;241;43m.\u001b[39;49m\u001b[43mTFE_Py_Execute\u001b[49m\u001b[43m(\u001b[49m\u001b[43mctx\u001b[49m\u001b[38;5;241;43m.\u001b[39;49m\u001b[43m_handle\u001b[49m\u001b[43m,\u001b[49m\u001b[43m \u001b[49m\u001b[43mdevice_name\u001b[49m\u001b[43m,\u001b[49m\u001b[43m \u001b[49m\u001b[43mop_name\u001b[49m\u001b[43m,\u001b[49m\n\u001b[1;32m     55\u001b[0m \u001b[43m                                      \u001b[49m\u001b[43minputs\u001b[49m\u001b[43m,\u001b[49m\u001b[43m \u001b[49m\u001b[43mattrs\u001b[49m\u001b[43m,\u001b[49m\u001b[43m \u001b[49m\u001b[43mnum_outputs\u001b[49m\u001b[43m)\u001b[49m\n\u001b[1;32m     56\u001b[0m \u001b[38;5;28;01mexcept\u001b[39;00m core\u001b[38;5;241m.\u001b[39m_NotOkStatusException \u001b[38;5;28;01mas\u001b[39;00m e:\n\u001b[1;32m     57\u001b[0m   \u001b[38;5;28;01mif\u001b[39;00m name \u001b[38;5;129;01mis\u001b[39;00m \u001b[38;5;129;01mnot\u001b[39;00m \u001b[38;5;28;01mNone\u001b[39;00m:\n",
      "\u001b[0;31mKeyboardInterrupt\u001b[0m: "
     ]
    }
   ],
   "source": [
    "encoder = create_encoder()\n",
    "\n",
    "encoder_with_projection_head = add_projection_head(encoder)\n",
    "encoder_with_projection_head.compile(\n",
    "    optimizer=keras.optimizers.Adam(learning_rate),\n",
    "    loss=SupervisedContrastiveLoss(temperature),\n",
    ")\n",
    "\n",
    "encoder_with_projection_head.summary()\n",
    "\n",
    "history = encoder_with_projection_head.fit(\n",
    "    train_ds, batch_size=batch_size, epochs=num_epochs\n",
    ")"
   ]
  },
  {
   "cell_type": "code",
   "execution_count": null,
   "id": "a6e6b762-0b86-4029-9258-44b3e76ee2ce",
   "metadata": {},
   "outputs": [],
   "source": []
  }
 ],
 "metadata": {
  "kernelspec": {
   "display_name": "Python (tensorflow)",
   "language": "python",
   "name": "tensorflow"
  },
  "language_info": {
   "codemirror_mode": {
    "name": "ipython",
    "version": 3
   },
   "file_extension": ".py",
   "mimetype": "text/x-python",
   "name": "python",
   "nbconvert_exporter": "python",
   "pygments_lexer": "ipython3",
   "version": "3.8.13"
  }
 },
 "nbformat": 4,
 "nbformat_minor": 5
}
